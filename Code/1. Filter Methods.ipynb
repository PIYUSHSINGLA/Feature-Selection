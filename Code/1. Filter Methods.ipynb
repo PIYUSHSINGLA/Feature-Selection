{
 "cells": [
  {
   "cell_type": "markdown",
   "metadata": {},
   "source": [
    "## ___Feature Selection with Filtering Method___"
   ]
  },
  {
   "cell_type": "markdown",
   "metadata": {},
   "source": [
    "_Filter methods are also called as __Single Factor Analysis__. Using this method, the predictive power of each individual variable (feature) is evaluated. Various statistical means can be used to determine predictive power._\n",
    "\n",
    "1. ___Univariate Analysis:___ _Individual Feature is ranked according to the sepcific creteria, Top N features are then selected._\n",
    "\n",
    "_e.g. Variance, Mutual Information Gain, Fisher's Score, etc._\n",
    "\n",
    "2. ___Multivariate Analysis:___ _In multivariate analysis, correlation between the group of features help to identify the redundant features in the dataset._\n",
    "\n",
    "_e.g. Pearson Correlation_"
   ]
  },
  {
   "cell_type": "markdown",
   "metadata": {},
   "source": [
    "#### ___Dataset Used:___ _https://www.kaggle.com/c/santander-customer-satisfaction_"
   ]
  },
  {
   "cell_type": "code",
   "execution_count": 1,
   "metadata": {},
   "outputs": [],
   "source": [
    "# importing libraries\n",
    "\n",
    "import numpy as np\n",
    "import pandas as pd\n",
    "import matplotlib.pyplot as plt\n",
    "import seaborn as sns"
   ]
  },
  {
   "cell_type": "code",
   "execution_count": 2,
   "metadata": {},
   "outputs": [],
   "source": [
    "dataset = pd.read_csv(\"C:/Users/PiyushSin/Downloads/santander/train.csv\")"
   ]
  },
  {
   "cell_type": "code",
   "execution_count": 3,
   "metadata": {},
   "outputs": [
    {
     "data": {
      "text/html": [
       "<div>\n",
       "<style scoped>\n",
       "    .dataframe tbody tr th:only-of-type {\n",
       "        vertical-align: middle;\n",
       "    }\n",
       "\n",
       "    .dataframe tbody tr th {\n",
       "        vertical-align: top;\n",
       "    }\n",
       "\n",
       "    .dataframe thead th {\n",
       "        text-align: right;\n",
       "    }\n",
       "</style>\n",
       "<table border=\"1\" class=\"dataframe\">\n",
       "  <thead>\n",
       "    <tr style=\"text-align: right;\">\n",
       "      <th></th>\n",
       "      <th>ID</th>\n",
       "      <th>var3</th>\n",
       "      <th>var15</th>\n",
       "      <th>imp_ent_var16_ult1</th>\n",
       "      <th>imp_op_var39_comer_ult1</th>\n",
       "      <th>imp_op_var39_comer_ult3</th>\n",
       "      <th>imp_op_var40_comer_ult1</th>\n",
       "      <th>imp_op_var40_comer_ult3</th>\n",
       "      <th>imp_op_var40_efect_ult1</th>\n",
       "      <th>imp_op_var40_efect_ult3</th>\n",
       "      <th>...</th>\n",
       "      <th>saldo_medio_var33_hace2</th>\n",
       "      <th>saldo_medio_var33_hace3</th>\n",
       "      <th>saldo_medio_var33_ult1</th>\n",
       "      <th>saldo_medio_var33_ult3</th>\n",
       "      <th>saldo_medio_var44_hace2</th>\n",
       "      <th>saldo_medio_var44_hace3</th>\n",
       "      <th>saldo_medio_var44_ult1</th>\n",
       "      <th>saldo_medio_var44_ult3</th>\n",
       "      <th>var38</th>\n",
       "      <th>TARGET</th>\n",
       "    </tr>\n",
       "  </thead>\n",
       "  <tbody>\n",
       "    <tr>\n",
       "      <th>0</th>\n",
       "      <td>1</td>\n",
       "      <td>2</td>\n",
       "      <td>23</td>\n",
       "      <td>0.0</td>\n",
       "      <td>0.0</td>\n",
       "      <td>0.0</td>\n",
       "      <td>0.0</td>\n",
       "      <td>0.0</td>\n",
       "      <td>0.0</td>\n",
       "      <td>0.0</td>\n",
       "      <td>...</td>\n",
       "      <td>0.0</td>\n",
       "      <td>0.0</td>\n",
       "      <td>0.0</td>\n",
       "      <td>0.0</td>\n",
       "      <td>0.0</td>\n",
       "      <td>0.0</td>\n",
       "      <td>0.0</td>\n",
       "      <td>0.0</td>\n",
       "      <td>39205.170000</td>\n",
       "      <td>0</td>\n",
       "    </tr>\n",
       "    <tr>\n",
       "      <th>1</th>\n",
       "      <td>3</td>\n",
       "      <td>2</td>\n",
       "      <td>34</td>\n",
       "      <td>0.0</td>\n",
       "      <td>0.0</td>\n",
       "      <td>0.0</td>\n",
       "      <td>0.0</td>\n",
       "      <td>0.0</td>\n",
       "      <td>0.0</td>\n",
       "      <td>0.0</td>\n",
       "      <td>...</td>\n",
       "      <td>0.0</td>\n",
       "      <td>0.0</td>\n",
       "      <td>0.0</td>\n",
       "      <td>0.0</td>\n",
       "      <td>0.0</td>\n",
       "      <td>0.0</td>\n",
       "      <td>0.0</td>\n",
       "      <td>0.0</td>\n",
       "      <td>49278.030000</td>\n",
       "      <td>0</td>\n",
       "    </tr>\n",
       "    <tr>\n",
       "      <th>2</th>\n",
       "      <td>4</td>\n",
       "      <td>2</td>\n",
       "      <td>23</td>\n",
       "      <td>0.0</td>\n",
       "      <td>0.0</td>\n",
       "      <td>0.0</td>\n",
       "      <td>0.0</td>\n",
       "      <td>0.0</td>\n",
       "      <td>0.0</td>\n",
       "      <td>0.0</td>\n",
       "      <td>...</td>\n",
       "      <td>0.0</td>\n",
       "      <td>0.0</td>\n",
       "      <td>0.0</td>\n",
       "      <td>0.0</td>\n",
       "      <td>0.0</td>\n",
       "      <td>0.0</td>\n",
       "      <td>0.0</td>\n",
       "      <td>0.0</td>\n",
       "      <td>67333.770000</td>\n",
       "      <td>0</td>\n",
       "    </tr>\n",
       "    <tr>\n",
       "      <th>3</th>\n",
       "      <td>8</td>\n",
       "      <td>2</td>\n",
       "      <td>37</td>\n",
       "      <td>0.0</td>\n",
       "      <td>195.0</td>\n",
       "      <td>195.0</td>\n",
       "      <td>0.0</td>\n",
       "      <td>0.0</td>\n",
       "      <td>0.0</td>\n",
       "      <td>0.0</td>\n",
       "      <td>...</td>\n",
       "      <td>0.0</td>\n",
       "      <td>0.0</td>\n",
       "      <td>0.0</td>\n",
       "      <td>0.0</td>\n",
       "      <td>0.0</td>\n",
       "      <td>0.0</td>\n",
       "      <td>0.0</td>\n",
       "      <td>0.0</td>\n",
       "      <td>64007.970000</td>\n",
       "      <td>0</td>\n",
       "    </tr>\n",
       "    <tr>\n",
       "      <th>4</th>\n",
       "      <td>10</td>\n",
       "      <td>2</td>\n",
       "      <td>39</td>\n",
       "      <td>0.0</td>\n",
       "      <td>0.0</td>\n",
       "      <td>0.0</td>\n",
       "      <td>0.0</td>\n",
       "      <td>0.0</td>\n",
       "      <td>0.0</td>\n",
       "      <td>0.0</td>\n",
       "      <td>...</td>\n",
       "      <td>0.0</td>\n",
       "      <td>0.0</td>\n",
       "      <td>0.0</td>\n",
       "      <td>0.0</td>\n",
       "      <td>0.0</td>\n",
       "      <td>0.0</td>\n",
       "      <td>0.0</td>\n",
       "      <td>0.0</td>\n",
       "      <td>117310.979016</td>\n",
       "      <td>0</td>\n",
       "    </tr>\n",
       "  </tbody>\n",
       "</table>\n",
       "<p>5 rows × 371 columns</p>\n",
       "</div>"
      ],
      "text/plain": [
       "   ID  var3  var15  imp_ent_var16_ult1  imp_op_var39_comer_ult1  \\\n",
       "0   1     2     23                 0.0                      0.0   \n",
       "1   3     2     34                 0.0                      0.0   \n",
       "2   4     2     23                 0.0                      0.0   \n",
       "3   8     2     37                 0.0                    195.0   \n",
       "4  10     2     39                 0.0                      0.0   \n",
       "\n",
       "   imp_op_var39_comer_ult3  imp_op_var40_comer_ult1  imp_op_var40_comer_ult3  \\\n",
       "0                      0.0                      0.0                      0.0   \n",
       "1                      0.0                      0.0                      0.0   \n",
       "2                      0.0                      0.0                      0.0   \n",
       "3                    195.0                      0.0                      0.0   \n",
       "4                      0.0                      0.0                      0.0   \n",
       "\n",
       "   imp_op_var40_efect_ult1  imp_op_var40_efect_ult3  ...  \\\n",
       "0                      0.0                      0.0  ...   \n",
       "1                      0.0                      0.0  ...   \n",
       "2                      0.0                      0.0  ...   \n",
       "3                      0.0                      0.0  ...   \n",
       "4                      0.0                      0.0  ...   \n",
       "\n",
       "   saldo_medio_var33_hace2  saldo_medio_var33_hace3  saldo_medio_var33_ult1  \\\n",
       "0                      0.0                      0.0                     0.0   \n",
       "1                      0.0                      0.0                     0.0   \n",
       "2                      0.0                      0.0                     0.0   \n",
       "3                      0.0                      0.0                     0.0   \n",
       "4                      0.0                      0.0                     0.0   \n",
       "\n",
       "   saldo_medio_var33_ult3  saldo_medio_var44_hace2  saldo_medio_var44_hace3  \\\n",
       "0                     0.0                      0.0                      0.0   \n",
       "1                     0.0                      0.0                      0.0   \n",
       "2                     0.0                      0.0                      0.0   \n",
       "3                     0.0                      0.0                      0.0   \n",
       "4                     0.0                      0.0                      0.0   \n",
       "\n",
       "   saldo_medio_var44_ult1  saldo_medio_var44_ult3          var38  TARGET  \n",
       "0                     0.0                     0.0   39205.170000       0  \n",
       "1                     0.0                     0.0   49278.030000       0  \n",
       "2                     0.0                     0.0   67333.770000       0  \n",
       "3                     0.0                     0.0   64007.970000       0  \n",
       "4                     0.0                     0.0  117310.979016       0  \n",
       "\n",
       "[5 rows x 371 columns]"
      ]
     },
     "execution_count": 3,
     "metadata": {},
     "output_type": "execute_result"
    }
   ],
   "source": [
    "dataset.head()"
   ]
  },
  {
   "cell_type": "code",
   "execution_count": 4,
   "metadata": {},
   "outputs": [
    {
     "name": "stdout",
     "output_type": "stream",
     "text": [
      "<class 'pandas.core.frame.DataFrame'>\n",
      "RangeIndex: 76020 entries, 0 to 76019\n",
      "Columns: 371 entries, ID to TARGET\n",
      "dtypes: float64(111), int64(260)\n",
      "memory usage: 215.2 MB\n"
     ]
    }
   ],
   "source": [
    "dataset.info()"
   ]
  },
  {
   "cell_type": "code",
   "execution_count": 5,
   "metadata": {},
   "outputs": [],
   "source": [
    "# Building Random Forest model for comparison and calculating efficiency.\n",
    "from sklearn.ensemble import RandomForestClassifier\n",
    "from sklearn.metrics import accuracy_score\n",
    "\n",
    "def run_randomForest(X_train, X_test, y_train, y_test):\n",
    "    clf = RandomForestClassifier(random_state=0, n_estimators=100, n_jobs=-1)\n",
    "    clf.fit(X_train, y_train)\n",
    "    y_pred = clf.predict(X_test)\n",
    "    print('Accuracy: ', accuracy_score(y_test, y_pred))"
   ]
  },
  {
   "cell_type": "markdown",
   "metadata": {},
   "source": [
    "### ___Univariate Feature Selection___"
   ]
  },
  {
   "cell_type": "code",
   "execution_count": 6,
   "metadata": {},
   "outputs": [
    {
     "data": {
      "text/plain": [
       "((76020, 370), (76020,))"
      ]
     },
     "execution_count": 6,
     "metadata": {},
     "output_type": "execute_result"
    }
   ],
   "source": [
    "X = dataset.drop('TARGET', axis = 1)\n",
    "y = dataset['TARGET']\n",
    "\n",
    "X.shape, y.shape"
   ]
  },
  {
   "cell_type": "code",
   "execution_count": 7,
   "metadata": {},
   "outputs": [],
   "source": [
    "from sklearn.model_selection import train_test_split\n",
    "\n",
    "X_train, X_test, y_train, y_test = train_test_split(X,y, test_size = 0.2, random_state = 0, stratify = y)"
   ]
  },
  {
   "cell_type": "markdown",
   "metadata": {},
   "source": [
    "#### ___1. Constant Feature Removal___"
   ]
  },
  {
   "cell_type": "code",
   "execution_count": 8,
   "metadata": {},
   "outputs": [],
   "source": [
    "from sklearn.feature_selection import VarianceThreshold"
   ]
  },
  {
   "cell_type": "code",
   "execution_count": 9,
   "metadata": {},
   "outputs": [],
   "source": [
    "constant_features = VarianceThreshold(threshold = 0) # defining constant features as Variance = 0 "
   ]
  },
  {
   "cell_type": "code",
   "execution_count": 10,
   "metadata": {},
   "outputs": [
    {
     "data": {
      "text/plain": [
       "VarianceThreshold(threshold=0)"
      ]
     },
     "execution_count": 10,
     "metadata": {},
     "output_type": "execute_result"
    }
   ],
   "source": [
    "constant_features.fit(X_train)"
   ]
  },
  {
   "cell_type": "code",
   "execution_count": 11,
   "metadata": {},
   "outputs": [
    {
     "data": {
      "text/plain": [
       "334"
      ]
     },
     "execution_count": 11,
     "metadata": {},
     "output_type": "execute_result"
    }
   ],
   "source": [
    "constant_features.get_support().sum() # 334 features are not constant"
   ]
  },
  {
   "cell_type": "code",
   "execution_count": 12,
   "metadata": {},
   "outputs": [
    {
     "data": {
      "text/plain": [
       "Index(['ind_var2_0', 'ind_var2', 'ind_var27_0', 'ind_var28_0', 'ind_var28',\n",
       "       'ind_var27', 'ind_var41', 'ind_var46_0', 'ind_var46', 'num_var27_0',\n",
       "       'num_var28_0', 'num_var28', 'num_var27', 'num_var41', 'num_var46_0',\n",
       "       'num_var46', 'saldo_var28', 'saldo_var27', 'saldo_var41', 'saldo_var46',\n",
       "       'imp_amort_var18_hace3', 'imp_amort_var34_hace3',\n",
       "       'imp_reemb_var13_hace3', 'imp_reemb_var17_hace3',\n",
       "       'imp_reemb_var33_hace3', 'imp_trasp_var17_out_hace3',\n",
       "       'imp_trasp_var33_out_hace3', 'num_var2_0_ult1', 'num_var2_ult1',\n",
       "       'num_reemb_var13_hace3', 'num_reemb_var17_hace3',\n",
       "       'num_reemb_var33_hace3', 'num_trasp_var17_out_hace3',\n",
       "       'num_trasp_var33_out_hace3', 'saldo_var2_ult1',\n",
       "       'saldo_medio_var13_medio_hace3'],\n",
       "      dtype='object')"
      ]
     },
     "execution_count": 12,
     "metadata": {},
     "output_type": "execute_result"
    }
   ],
   "source": [
    "non_constant_feature = constant_features.get_support()\n",
    "\n",
    "X.columns[~non_constant_feature] # This gives us list of constant features"
   ]
  },
  {
   "cell_type": "code",
   "execution_count": 13,
   "metadata": {},
   "outputs": [],
   "source": [
    "X_train_filter = constant_features.transform(X_train)\n",
    "X_test_filter = constant_features.transform(X_test)"
   ]
  },
  {
   "cell_type": "code",
   "execution_count": 14,
   "metadata": {},
   "outputs": [
    {
     "data": {
      "text/plain": [
       "((60816, 334), (15204, 334))"
      ]
     },
     "execution_count": 14,
     "metadata": {},
     "output_type": "execute_result"
    }
   ],
   "source": [
    "X_train_filter.shape, X_test_filter.shape"
   ]
  },
  {
   "cell_type": "markdown",
   "metadata": {},
   "source": [
    "#### ___2. Quasi Constant Feature Removal___"
   ]
  },
  {
   "cell_type": "code",
   "execution_count": 15,
   "metadata": {},
   "outputs": [],
   "source": [
    "quasi_constant_features = VarianceThreshold(threshold = 0.01) # only 1% of non similar values"
   ]
  },
  {
   "cell_type": "code",
   "execution_count": 16,
   "metadata": {},
   "outputs": [
    {
     "data": {
      "text/plain": [
       "VarianceThreshold(threshold=0.01)"
      ]
     },
     "execution_count": 16,
     "metadata": {},
     "output_type": "execute_result"
    }
   ],
   "source": [
    "quasi_constant_features.fit(X_train_filter)"
   ]
  },
  {
   "cell_type": "code",
   "execution_count": 17,
   "metadata": {},
   "outputs": [
    {
     "data": {
      "text/plain": [
       "274"
      ]
     },
     "execution_count": 17,
     "metadata": {},
     "output_type": "execute_result"
    }
   ],
   "source": [
    "quasi_constant_features.get_support().sum() # we are now left with 274 features"
   ]
  },
  {
   "cell_type": "code",
   "execution_count": 18,
   "metadata": {},
   "outputs": [],
   "source": [
    "X_train_filter = quasi_constant_features.transform(X_train_filter)\n",
    "X_test_filter = quasi_constant_features.transform(X_test_filter)"
   ]
  },
  {
   "cell_type": "code",
   "execution_count": 19,
   "metadata": {},
   "outputs": [
    {
     "data": {
      "text/plain": [
       "((60816, 274), (15204, 274))"
      ]
     },
     "execution_count": 19,
     "metadata": {},
     "output_type": "execute_result"
    }
   ],
   "source": [
    "X_train_filter.shape, X_test_filter.shape"
   ]
  },
  {
   "cell_type": "code",
   "execution_count": 20,
   "metadata": {},
   "outputs": [
    {
     "data": {
      "text/plain": [
       "96"
      ]
     },
     "execution_count": 20,
     "metadata": {},
     "output_type": "execute_result"
    }
   ],
   "source": [
    "X_train.shape[1] - X_train_filter.shape[1] # total 96 features removed till now"
   ]
  },
  {
   "cell_type": "markdown",
   "metadata": {},
   "source": [
    "#### ___3. Duplicate Feature Removal___"
   ]
  },
  {
   "cell_type": "markdown",
   "metadata": {},
   "source": [
    "_There is no direct way to remove duplicate columns, so we are going to transpose the dataset and use duplicated function from pandas._"
   ]
  },
  {
   "cell_type": "code",
   "execution_count": 21,
   "metadata": {},
   "outputs": [],
   "source": [
    "X_train_filter_T = X_train_filter.T\n",
    "X_test_filter_T = X_test_filter.T"
   ]
  },
  {
   "cell_type": "code",
   "execution_count": 22,
   "metadata": {},
   "outputs": [],
   "source": [
    "X_train_filter_T = pd.DataFrame(X_train_filter_T)\n",
    "X_test_filter_T = pd.DataFrame(X_test_filter_T)"
   ]
  },
  {
   "cell_type": "code",
   "execution_count": 23,
   "metadata": {},
   "outputs": [
    {
     "data": {
      "text/plain": [
       "17"
      ]
     },
     "execution_count": 23,
     "metadata": {},
     "output_type": "execute_result"
    }
   ],
   "source": [
    "X_train_filter_T.duplicated().sum() # This gives us the duplicated rows"
   ]
  },
  {
   "cell_type": "code",
   "execution_count": 24,
   "metadata": {},
   "outputs": [
    {
     "data": {
      "text/html": [
       "<div>\n",
       "<style scoped>\n",
       "    .dataframe tbody tr th:only-of-type {\n",
       "        vertical-align: middle;\n",
       "    }\n",
       "\n",
       "    .dataframe tbody tr th {\n",
       "        vertical-align: top;\n",
       "    }\n",
       "\n",
       "    .dataframe thead th {\n",
       "        text-align: right;\n",
       "    }\n",
       "</style>\n",
       "<table border=\"1\" class=\"dataframe\">\n",
       "  <thead>\n",
       "    <tr style=\"text-align: right;\">\n",
       "      <th></th>\n",
       "      <th>0</th>\n",
       "      <th>1</th>\n",
       "      <th>2</th>\n",
       "      <th>3</th>\n",
       "      <th>4</th>\n",
       "      <th>5</th>\n",
       "      <th>6</th>\n",
       "      <th>7</th>\n",
       "      <th>8</th>\n",
       "      <th>9</th>\n",
       "      <th>...</th>\n",
       "      <th>15194</th>\n",
       "      <th>15195</th>\n",
       "      <th>15196</th>\n",
       "      <th>15197</th>\n",
       "      <th>15198</th>\n",
       "      <th>15199</th>\n",
       "      <th>15200</th>\n",
       "      <th>15201</th>\n",
       "      <th>15202</th>\n",
       "      <th>15203</th>\n",
       "    </tr>\n",
       "  </thead>\n",
       "  <tbody>\n",
       "    <tr>\n",
       "      <th>0</th>\n",
       "      <td>38893.00</td>\n",
       "      <td>133597.00</td>\n",
       "      <td>24908.00</td>\n",
       "      <td>19551.0</td>\n",
       "      <td>36051.00</td>\n",
       "      <td>133938.00</td>\n",
       "      <td>126540.00</td>\n",
       "      <td>12981.00</td>\n",
       "      <td>67175.00</td>\n",
       "      <td>118275.00</td>\n",
       "      <td>...</td>\n",
       "      <td>25055.00</td>\n",
       "      <td>47566.00</td>\n",
       "      <td>60527.00</td>\n",
       "      <td>63495.00</td>\n",
       "      <td>125788.00</td>\n",
       "      <td>28686.00</td>\n",
       "      <td>66259.000000</td>\n",
       "      <td>44895.00</td>\n",
       "      <td>33938.00</td>\n",
       "      <td>62793.00</td>\n",
       "    </tr>\n",
       "    <tr>\n",
       "      <th>1</th>\n",
       "      <td>2.00</td>\n",
       "      <td>2.00</td>\n",
       "      <td>2.00</td>\n",
       "      <td>2.0</td>\n",
       "      <td>2.00</td>\n",
       "      <td>2.00</td>\n",
       "      <td>2.00</td>\n",
       "      <td>2.00</td>\n",
       "      <td>2.00</td>\n",
       "      <td>2.00</td>\n",
       "      <td>...</td>\n",
       "      <td>2.00</td>\n",
       "      <td>2.00</td>\n",
       "      <td>2.00</td>\n",
       "      <td>2.00</td>\n",
       "      <td>2.00</td>\n",
       "      <td>2.00</td>\n",
       "      <td>2.000000</td>\n",
       "      <td>2.00</td>\n",
       "      <td>2.00</td>\n",
       "      <td>2.00</td>\n",
       "    </tr>\n",
       "    <tr>\n",
       "      <th>2</th>\n",
       "      <td>23.00</td>\n",
       "      <td>52.00</td>\n",
       "      <td>23.00</td>\n",
       "      <td>9.0</td>\n",
       "      <td>23.00</td>\n",
       "      <td>26.00</td>\n",
       "      <td>28.00</td>\n",
       "      <td>29.00</td>\n",
       "      <td>23.00</td>\n",
       "      <td>33.00</td>\n",
       "      <td>...</td>\n",
       "      <td>36.00</td>\n",
       "      <td>24.00</td>\n",
       "      <td>30.00</td>\n",
       "      <td>26.00</td>\n",
       "      <td>29.00</td>\n",
       "      <td>30.00</td>\n",
       "      <td>28.000000</td>\n",
       "      <td>26.00</td>\n",
       "      <td>76.00</td>\n",
       "      <td>23.00</td>\n",
       "    </tr>\n",
       "    <tr>\n",
       "      <th>3</th>\n",
       "      <td>0.00</td>\n",
       "      <td>0.00</td>\n",
       "      <td>0.00</td>\n",
       "      <td>900.0</td>\n",
       "      <td>0.00</td>\n",
       "      <td>0.00</td>\n",
       "      <td>0.00</td>\n",
       "      <td>0.00</td>\n",
       "      <td>0.00</td>\n",
       "      <td>0.00</td>\n",
       "      <td>...</td>\n",
       "      <td>0.00</td>\n",
       "      <td>150.00</td>\n",
       "      <td>0.00</td>\n",
       "      <td>0.00</td>\n",
       "      <td>0.00</td>\n",
       "      <td>0.00</td>\n",
       "      <td>0.000000</td>\n",
       "      <td>0.00</td>\n",
       "      <td>0.00</td>\n",
       "      <td>0.00</td>\n",
       "    </tr>\n",
       "    <tr>\n",
       "      <th>4</th>\n",
       "      <td>0.00</td>\n",
       "      <td>0.00</td>\n",
       "      <td>0.00</td>\n",
       "      <td>0.0</td>\n",
       "      <td>0.00</td>\n",
       "      <td>153.60</td>\n",
       "      <td>0.00</td>\n",
       "      <td>0.00</td>\n",
       "      <td>0.00</td>\n",
       "      <td>649.44</td>\n",
       "      <td>...</td>\n",
       "      <td>2330.40</td>\n",
       "      <td>111.24</td>\n",
       "      <td>0.00</td>\n",
       "      <td>0.00</td>\n",
       "      <td>0.00</td>\n",
       "      <td>0.00</td>\n",
       "      <td>0.000000</td>\n",
       "      <td>0.00</td>\n",
       "      <td>0.00</td>\n",
       "      <td>0.00</td>\n",
       "    </tr>\n",
       "    <tr>\n",
       "      <th>...</th>\n",
       "      <td>...</td>\n",
       "      <td>...</td>\n",
       "      <td>...</td>\n",
       "      <td>...</td>\n",
       "      <td>...</td>\n",
       "      <td>...</td>\n",
       "      <td>...</td>\n",
       "      <td>...</td>\n",
       "      <td>...</td>\n",
       "      <td>...</td>\n",
       "      <td>...</td>\n",
       "      <td>...</td>\n",
       "      <td>...</td>\n",
       "      <td>...</td>\n",
       "      <td>...</td>\n",
       "      <td>...</td>\n",
       "      <td>...</td>\n",
       "      <td>...</td>\n",
       "      <td>...</td>\n",
       "      <td>...</td>\n",
       "      <td>...</td>\n",
       "    </tr>\n",
       "    <tr>\n",
       "      <th>269</th>\n",
       "      <td>0.00</td>\n",
       "      <td>0.00</td>\n",
       "      <td>0.00</td>\n",
       "      <td>0.0</td>\n",
       "      <td>0.00</td>\n",
       "      <td>0.00</td>\n",
       "      <td>0.00</td>\n",
       "      <td>0.00</td>\n",
       "      <td>0.00</td>\n",
       "      <td>0.00</td>\n",
       "      <td>...</td>\n",
       "      <td>0.00</td>\n",
       "      <td>0.00</td>\n",
       "      <td>0.00</td>\n",
       "      <td>0.00</td>\n",
       "      <td>0.00</td>\n",
       "      <td>0.00</td>\n",
       "      <td>0.000000</td>\n",
       "      <td>0.00</td>\n",
       "      <td>0.00</td>\n",
       "      <td>0.00</td>\n",
       "    </tr>\n",
       "    <tr>\n",
       "      <th>270</th>\n",
       "      <td>0.00</td>\n",
       "      <td>0.00</td>\n",
       "      <td>0.00</td>\n",
       "      <td>0.0</td>\n",
       "      <td>0.00</td>\n",
       "      <td>0.00</td>\n",
       "      <td>0.00</td>\n",
       "      <td>0.00</td>\n",
       "      <td>0.00</td>\n",
       "      <td>0.00</td>\n",
       "      <td>...</td>\n",
       "      <td>0.00</td>\n",
       "      <td>0.00</td>\n",
       "      <td>0.00</td>\n",
       "      <td>0.00</td>\n",
       "      <td>0.00</td>\n",
       "      <td>0.00</td>\n",
       "      <td>0.000000</td>\n",
       "      <td>0.00</td>\n",
       "      <td>0.00</td>\n",
       "      <td>0.00</td>\n",
       "    </tr>\n",
       "    <tr>\n",
       "      <th>271</th>\n",
       "      <td>0.00</td>\n",
       "      <td>0.00</td>\n",
       "      <td>0.00</td>\n",
       "      <td>0.0</td>\n",
       "      <td>0.00</td>\n",
       "      <td>0.00</td>\n",
       "      <td>0.00</td>\n",
       "      <td>0.00</td>\n",
       "      <td>0.00</td>\n",
       "      <td>0.00</td>\n",
       "      <td>...</td>\n",
       "      <td>0.00</td>\n",
       "      <td>0.00</td>\n",
       "      <td>0.00</td>\n",
       "      <td>0.00</td>\n",
       "      <td>0.00</td>\n",
       "      <td>0.00</td>\n",
       "      <td>0.000000</td>\n",
       "      <td>0.00</td>\n",
       "      <td>0.00</td>\n",
       "      <td>0.00</td>\n",
       "    </tr>\n",
       "    <tr>\n",
       "      <th>272</th>\n",
       "      <td>0.00</td>\n",
       "      <td>0.00</td>\n",
       "      <td>0.00</td>\n",
       "      <td>0.0</td>\n",
       "      <td>0.00</td>\n",
       "      <td>0.00</td>\n",
       "      <td>0.00</td>\n",
       "      <td>0.00</td>\n",
       "      <td>0.00</td>\n",
       "      <td>0.00</td>\n",
       "      <td>...</td>\n",
       "      <td>0.00</td>\n",
       "      <td>0.00</td>\n",
       "      <td>0.00</td>\n",
       "      <td>0.00</td>\n",
       "      <td>0.00</td>\n",
       "      <td>0.00</td>\n",
       "      <td>0.000000</td>\n",
       "      <td>0.00</td>\n",
       "      <td>0.00</td>\n",
       "      <td>0.00</td>\n",
       "    </tr>\n",
       "    <tr>\n",
       "      <th>273</th>\n",
       "      <td>26032.95</td>\n",
       "      <td>125619.36</td>\n",
       "      <td>91102.35</td>\n",
       "      <td>1162494.0</td>\n",
       "      <td>138295.44</td>\n",
       "      <td>70547.82</td>\n",
       "      <td>113848.05</td>\n",
       "      <td>19618.62</td>\n",
       "      <td>71197.47</td>\n",
       "      <td>29310.36</td>\n",
       "      <td>...</td>\n",
       "      <td>735844.83</td>\n",
       "      <td>160220.97</td>\n",
       "      <td>110175.96</td>\n",
       "      <td>67218.45</td>\n",
       "      <td>92905.17</td>\n",
       "      <td>85419.57</td>\n",
       "      <td>117310.979016</td>\n",
       "      <td>216319.77</td>\n",
       "      <td>218030.01</td>\n",
       "      <td>59606.52</td>\n",
       "    </tr>\n",
       "  </tbody>\n",
       "</table>\n",
       "<p>257 rows × 15204 columns</p>\n",
       "</div>"
      ],
      "text/plain": [
       "        0          1         2          3          4          5      \\\n",
       "0    38893.00  133597.00  24908.00    19551.0   36051.00  133938.00   \n",
       "1        2.00       2.00      2.00        2.0       2.00       2.00   \n",
       "2       23.00      52.00     23.00        9.0      23.00      26.00   \n",
       "3        0.00       0.00      0.00      900.0       0.00       0.00   \n",
       "4        0.00       0.00      0.00        0.0       0.00     153.60   \n",
       "..        ...        ...       ...        ...        ...        ...   \n",
       "269      0.00       0.00      0.00        0.0       0.00       0.00   \n",
       "270      0.00       0.00      0.00        0.0       0.00       0.00   \n",
       "271      0.00       0.00      0.00        0.0       0.00       0.00   \n",
       "272      0.00       0.00      0.00        0.0       0.00       0.00   \n",
       "273  26032.95  125619.36  91102.35  1162494.0  138295.44   70547.82   \n",
       "\n",
       "         6         7         8          9      ...      15194      15195  \\\n",
       "0    126540.00  12981.00  67175.00  118275.00  ...   25055.00   47566.00   \n",
       "1         2.00      2.00      2.00       2.00  ...       2.00       2.00   \n",
       "2        28.00     29.00     23.00      33.00  ...      36.00      24.00   \n",
       "3         0.00      0.00      0.00       0.00  ...       0.00     150.00   \n",
       "4         0.00      0.00      0.00     649.44  ...    2330.40     111.24   \n",
       "..         ...       ...       ...        ...  ...        ...        ...   \n",
       "269       0.00      0.00      0.00       0.00  ...       0.00       0.00   \n",
       "270       0.00      0.00      0.00       0.00  ...       0.00       0.00   \n",
       "271       0.00      0.00      0.00       0.00  ...       0.00       0.00   \n",
       "272       0.00      0.00      0.00       0.00  ...       0.00       0.00   \n",
       "273  113848.05  19618.62  71197.47   29310.36  ...  735844.83  160220.97   \n",
       "\n",
       "         15196     15197      15198     15199          15200      15201  \\\n",
       "0     60527.00  63495.00  125788.00  28686.00   66259.000000   44895.00   \n",
       "1         2.00      2.00       2.00      2.00       2.000000       2.00   \n",
       "2        30.00     26.00      29.00     30.00      28.000000      26.00   \n",
       "3         0.00      0.00       0.00      0.00       0.000000       0.00   \n",
       "4         0.00      0.00       0.00      0.00       0.000000       0.00   \n",
       "..         ...       ...        ...       ...            ...        ...   \n",
       "269       0.00      0.00       0.00      0.00       0.000000       0.00   \n",
       "270       0.00      0.00       0.00      0.00       0.000000       0.00   \n",
       "271       0.00      0.00       0.00      0.00       0.000000       0.00   \n",
       "272       0.00      0.00       0.00      0.00       0.000000       0.00   \n",
       "273  110175.96  67218.45   92905.17  85419.57  117310.979016  216319.77   \n",
       "\n",
       "         15202     15203  \n",
       "0     33938.00  62793.00  \n",
       "1         2.00      2.00  \n",
       "2        76.00     23.00  \n",
       "3         0.00      0.00  \n",
       "4         0.00      0.00  \n",
       "..         ...       ...  \n",
       "269       0.00      0.00  \n",
       "270       0.00      0.00  \n",
       "271       0.00      0.00  \n",
       "272       0.00      0.00  \n",
       "273  218030.01  59606.52  \n",
       "\n",
       "[257 rows x 15204 columns]"
      ]
     },
     "execution_count": 24,
     "metadata": {},
     "output_type": "execute_result"
    }
   ],
   "source": [
    "X_train_filter_T[~X_train_filter_T.duplicated()]\n",
    "X_test_filter_T[~X_train_filter_T.duplicated()] # dropping same features"
   ]
  },
  {
   "cell_type": "code",
   "execution_count": 25,
   "metadata": {},
   "outputs": [],
   "source": [
    "X_train_filter = X_train_filter_T.T\n",
    "X_test_filter = X_test_filter_T.T"
   ]
  },
  {
   "cell_type": "code",
   "execution_count": 26,
   "metadata": {},
   "outputs": [
    {
     "data": {
      "text/plain": [
       "((60816, 274), (15204, 274))"
      ]
     },
     "execution_count": 26,
     "metadata": {},
     "output_type": "execute_result"
    }
   ],
   "source": [
    "X_train_filter.shape, X_test_filter.shape"
   ]
  },
  {
   "cell_type": "markdown",
   "metadata": {},
   "source": [
    "#### ___Lets do the first comparison___"
   ]
  },
  {
   "cell_type": "code",
   "execution_count": 27,
   "metadata": {},
   "outputs": [
    {
     "name": "stdout",
     "output_type": "stream",
     "text": [
      "Accuracy:  0.9575769534333071\n",
      "Wall time: 24.7 s\n"
     ]
    }
   ],
   "source": [
    "# model without filtered data\n",
    "%time run_randomForest(X_train, X_test, y_train, y_test)"
   ]
  },
  {
   "cell_type": "code",
   "execution_count": 28,
   "metadata": {},
   "outputs": [
    {
     "name": "stdout",
     "output_type": "stream",
     "text": [
      "Accuracy:  0.9577742699289661\n",
      "Wall time: 20.1 s\n"
     ]
    }
   ],
   "source": [
    "# model with filtered data\n",
    "%time run_randomForest(X_train_filter, X_test_filter, y_train, y_test)"
   ]
  },
  {
   "cell_type": "markdown",
   "metadata": {},
   "source": [
    "#### ___4. Mutual Information (Entropy) Gain / Information Value___"
   ]
  },
  {
   "attachments": {
    "image.png": {
     "image/png": "[encoded data removed]"
    }
   },
   "cell_type": "markdown",
   "metadata": {},
   "source": [
    "_Mutual Information gain is measure of dependence between 2 random variable is always symmetric and non-negative. If MI is zero that means features are independent._\n",
    "\n",
    "![image.png](attachment:image.png)"
   ]
  },
  {
   "cell_type": "code",
   "execution_count": 72,
   "metadata": {},
   "outputs": [],
   "source": [
    "from sklearn.feature_selection import mutual_info_classif, mutual_info_regression, SelectKBest, SelectPercentile"
   ]
  },
  {
   "cell_type": "markdown",
   "metadata": {},
   "source": [
    "##### ___Classification___"
   ]
  },
  {
   "cell_type": "code",
   "execution_count": 73,
   "metadata": {},
   "outputs": [],
   "source": [
    "ml_info = mutual_info_classif(X_train_filter, y_train)"
   ]
  },
  {
   "cell_type": "code",
   "execution_count": 74,
   "metadata": {},
   "outputs": [
    {
     "data": {
      "text/plain": [
       "274"
      ]
     },
     "execution_count": 74,
     "metadata": {},
     "output_type": "execute_result"
    }
   ],
   "source": [
    "len(ml_info)"
   ]
  },
  {
   "cell_type": "code",
   "execution_count": 75,
   "metadata": {},
   "outputs": [],
   "source": [
    "ml_info = pd.Series(ml_info)\n",
    "ml_info.index = X_train_filter.columns"
   ]
  },
  {
   "cell_type": "code",
   "execution_count": 76,
   "metadata": {},
   "outputs": [],
   "source": [
    "ml_info.sort_values(ascending = False, inplace = True)"
   ]
  },
  {
   "cell_type": "code",
   "execution_count": 78,
   "metadata": {},
   "outputs": [
    {
     "data": {
      "text/plain": [
       "<matplotlib.axes._subplots.AxesSubplot at 0x1ed4cdec3c8>"
      ]
     },
     "execution_count": 78,
     "metadata": {},
     "output_type": "execute_result"
    },
    {
     "data": {
      "image/png": "[encoded data removed]",
      "text/plain": [
       "<Figure size 1152x576 with 1 Axes>"
      ]
     },
     "metadata": {
      "needs_background": "light"
     },
     "output_type": "display_data"
    }
   ],
   "source": [
    "ml_info.plot.bar(figsize = (16,8))"
   ]
  },
  {
   "cell_type": "code",
   "execution_count": 79,
   "metadata": {},
   "outputs": [],
   "source": [
    "sel = SelectPercentile(mutual_info_classif, percentile =10).fit(X_train_filter, y_train) "
   ]
  },
  {
   "cell_type": "code",
   "execution_count": 80,
   "metadata": {},
   "outputs": [
    {
     "data": {
      "text/plain": [
       "Int64Index([  2,  21,  22,  42,  46,  48,  51,  52,  53,  88,  89,  95,  99,\n",
       "            102, 104, 105, 109, 121, 125, 132, 134, 207, 212, 234, 235, 236,\n",
       "            237, 273],\n",
       "           dtype='int64')"
      ]
     },
     "execution_count": 80,
     "metadata": {},
     "output_type": "execute_result"
    }
   ],
   "source": [
    "X_train_filter.columns[sel.get_support()]"
   ]
  },
  {
   "cell_type": "code",
   "execution_count": 82,
   "metadata": {},
   "outputs": [],
   "source": [
    "X_train_filter_mi = sel.transform(X_train_filter)\n",
    "X_test_filter_mi = sel.transform(X_test_filter)"
   ]
  },
  {
   "cell_type": "code",
   "execution_count": 83,
   "metadata": {},
   "outputs": [
    {
     "name": "stdout",
     "output_type": "stream",
     "text": [
      "Accuracy:  0.9510655090765588\n",
      "Wall time: 7.8 s\n"
     ]
    }
   ],
   "source": [
    "# model with filtered data\n",
    "%time run_randomForest(X_train_filter_mi, X_test_filter_mi, y_train, y_test)"
   ]
  },
  {
   "cell_type": "markdown",
   "metadata": {},
   "source": [
    "##### _Regression_ "
   ]
  },
  {
   "cell_type": "code",
   "execution_count": 86,
   "metadata": {},
   "outputs": [],
   "source": [
    "from sklearn.datasets import load_boston\n",
    "from sklearn.linear_model import LinearRegression\n",
    "from sklearn.metrics import mean_absolute_error, mean_squared_error, r2_score"
   ]
  },
  {
   "cell_type": "code",
   "execution_count": 87,
   "metadata": {},
   "outputs": [],
   "source": [
    "boston = load_boston()"
   ]
  },
  {
   "cell_type": "code",
   "execution_count": 88,
   "metadata": {},
   "outputs": [
    {
     "name": "stdout",
     "output_type": "stream",
     "text": [
      ".. _boston_dataset:\n",
      "\n",
      "Boston house prices dataset\n",
      "---------------------------\n",
      "\n",
      "**Data Set Characteristics:**  \n",
      "\n",
      "    :Number of Instances: 506 \n",
      "\n",
      "    :Number of Attributes: 13 numeric/categorical predictive. Median Value (attribute 14) is usually the target.\n",
      "\n",
      "    :Attribute Information (in order):\n",
      "        - CRIM     per capita crime rate by town\n",
      "        - ZN       proportion of residential land zoned for lots over 25,000 sq.ft.\n",
      "        - INDUS    proportion of non-retail business acres per town\n",
      "        - CHAS     Charles River dummy variable (= 1 if tract bounds river; 0 otherwise)\n",
      "        - NOX      nitric oxides concentration (parts per 10 million)\n",
      "        - RM       average number of rooms per dwelling\n",
      "        - AGE      proportion of owner-occupied units built prior to 1940\n",
      "        - DIS      weighted distances to five Boston employment centres\n",
      "        - RAD      index of accessibility to radial highways\n",
      "        - TAX      full-value property-tax rate per $10,000\n",
      "        - PTRATIO  pupil-teacher ratio by town\n",
      "        - B        1000(Bk - 0.63)^2 where Bk is the proportion of blacks by town\n",
      "        - LSTAT    % lower status of the population\n",
      "        - MEDV     Median value of owner-occupied homes in $1000's\n",
      "\n",
      "    :Missing Attribute Values: None\n",
      "\n",
      "    :Creator: Harrison, D. and Rubinfeld, D.L.\n",
      "\n",
      "This is a copy of UCI ML housing dataset.\n",
      "https://archive.ics.uci.edu/ml/machine-learning-databases/housing/\n",
      "\n",
      "\n",
      "This dataset was taken from the StatLib library which is maintained at Carnegie Mellon University.\n",
      "\n",
      "The Boston house-price data of Harrison, D. and Rubinfeld, D.L. 'Hedonic\n",
      "prices and the demand for clean air', J. Environ. Economics & Management,\n",
      "vol.5, 81-102, 1978.   Used in Belsley, Kuh & Welsch, 'Regression diagnostics\n",
      "...', Wiley, 1980.   N.B. Various transformations are used in the table on\n",
      "pages 244-261 of the latter.\n",
      "\n",
      "The Boston house-price data has been used in many machine learning papers that address regression\n",
      "problems.   \n",
      "     \n",
      ".. topic:: References\n",
      "\n",
      "   - Belsley, Kuh & Welsch, 'Regression diagnostics: Identifying Influential Data and Sources of Collinearity', Wiley, 1980. 244-261.\n",
      "   - Quinlan,R. (1993). Combining Instance-Based and Model-Based Learning. In Proceedings on the Tenth International Conference of Machine Learning, 236-243, University of Massachusetts, Amherst. Morgan Kaufmann.\n",
      "\n"
     ]
    }
   ],
   "source": [
    "print(boston.DESCR)"
   ]
  },
  {
   "cell_type": "code",
   "execution_count": 93,
   "metadata": {},
   "outputs": [
    {
     "data": {
      "text/html": [
       "<div>\n",
       "<style scoped>\n",
       "    .dataframe tbody tr th:only-of-type {\n",
       "        vertical-align: middle;\n",
       "    }\n",
       "\n",
       "    .dataframe tbody tr th {\n",
       "        vertical-align: top;\n",
       "    }\n",
       "\n",
       "    .dataframe thead th {\n",
       "        text-align: right;\n",
       "    }\n",
       "</style>\n",
       "<table border=\"1\" class=\"dataframe\">\n",
       "  <thead>\n",
       "    <tr style=\"text-align: right;\">\n",
       "      <th></th>\n",
       "      <th>CRIM</th>\n",
       "      <th>ZN</th>\n",
       "      <th>INDUS</th>\n",
       "      <th>CHAS</th>\n",
       "      <th>NOX</th>\n",
       "      <th>RM</th>\n",
       "      <th>AGE</th>\n",
       "      <th>DIS</th>\n",
       "      <th>RAD</th>\n",
       "      <th>TAX</th>\n",
       "      <th>PTRATIO</th>\n",
       "      <th>B</th>\n",
       "      <th>LSTAT</th>\n",
       "    </tr>\n",
       "  </thead>\n",
       "  <tbody>\n",
       "    <tr>\n",
       "      <th>0</th>\n",
       "      <td>0.00632</td>\n",
       "      <td>18.0</td>\n",
       "      <td>2.31</td>\n",
       "      <td>0.0</td>\n",
       "      <td>0.538</td>\n",
       "      <td>6.575</td>\n",
       "      <td>65.2</td>\n",
       "      <td>4.0900</td>\n",
       "      <td>1.0</td>\n",
       "      <td>296.0</td>\n",
       "      <td>15.3</td>\n",
       "      <td>396.90</td>\n",
       "      <td>4.98</td>\n",
       "    </tr>\n",
       "    <tr>\n",
       "      <th>1</th>\n",
       "      <td>0.02731</td>\n",
       "      <td>0.0</td>\n",
       "      <td>7.07</td>\n",
       "      <td>0.0</td>\n",
       "      <td>0.469</td>\n",
       "      <td>6.421</td>\n",
       "      <td>78.9</td>\n",
       "      <td>4.9671</td>\n",
       "      <td>2.0</td>\n",
       "      <td>242.0</td>\n",
       "      <td>17.8</td>\n",
       "      <td>396.90</td>\n",
       "      <td>9.14</td>\n",
       "    </tr>\n",
       "    <tr>\n",
       "      <th>2</th>\n",
       "      <td>0.02729</td>\n",
       "      <td>0.0</td>\n",
       "      <td>7.07</td>\n",
       "      <td>0.0</td>\n",
       "      <td>0.469</td>\n",
       "      <td>7.185</td>\n",
       "      <td>61.1</td>\n",
       "      <td>4.9671</td>\n",
       "      <td>2.0</td>\n",
       "      <td>242.0</td>\n",
       "      <td>17.8</td>\n",
       "      <td>392.83</td>\n",
       "      <td>4.03</td>\n",
       "    </tr>\n",
       "    <tr>\n",
       "      <th>3</th>\n",
       "      <td>0.03237</td>\n",
       "      <td>0.0</td>\n",
       "      <td>2.18</td>\n",
       "      <td>0.0</td>\n",
       "      <td>0.458</td>\n",
       "      <td>6.998</td>\n",
       "      <td>45.8</td>\n",
       "      <td>6.0622</td>\n",
       "      <td>3.0</td>\n",
       "      <td>222.0</td>\n",
       "      <td>18.7</td>\n",
       "      <td>394.63</td>\n",
       "      <td>2.94</td>\n",
       "    </tr>\n",
       "    <tr>\n",
       "      <th>4</th>\n",
       "      <td>0.06905</td>\n",
       "      <td>0.0</td>\n",
       "      <td>2.18</td>\n",
       "      <td>0.0</td>\n",
       "      <td>0.458</td>\n",
       "      <td>7.147</td>\n",
       "      <td>54.2</td>\n",
       "      <td>6.0622</td>\n",
       "      <td>3.0</td>\n",
       "      <td>222.0</td>\n",
       "      <td>18.7</td>\n",
       "      <td>396.90</td>\n",
       "      <td>5.33</td>\n",
       "    </tr>\n",
       "  </tbody>\n",
       "</table>\n",
       "</div>"
      ],
      "text/plain": [
       "      CRIM    ZN  INDUS  CHAS    NOX     RM   AGE     DIS  RAD    TAX  \\\n",
       "0  0.00632  18.0   2.31   0.0  0.538  6.575  65.2  4.0900  1.0  296.0   \n",
       "1  0.02731   0.0   7.07   0.0  0.469  6.421  78.9  4.9671  2.0  242.0   \n",
       "2  0.02729   0.0   7.07   0.0  0.469  7.185  61.1  4.9671  2.0  242.0   \n",
       "3  0.03237   0.0   2.18   0.0  0.458  6.998  45.8  6.0622  3.0  222.0   \n",
       "4  0.06905   0.0   2.18   0.0  0.458  7.147  54.2  6.0622  3.0  222.0   \n",
       "\n",
       "   PTRATIO       B  LSTAT  \n",
       "0     15.3  396.90   4.98  \n",
       "1     17.8  396.90   9.14  \n",
       "2     17.8  392.83   4.03  \n",
       "3     18.7  394.63   2.94  \n",
       "4     18.7  396.90   5.33  "
      ]
     },
     "execution_count": 93,
     "metadata": {},
     "output_type": "execute_result"
    }
   ],
   "source": [
    "data_boston_X = pd.DataFrame(boston.data, columns = boston.feature_names)\n",
    "data_boston_X.head()"
   ]
  },
  {
   "cell_type": "code",
   "execution_count": 95,
   "metadata": {},
   "outputs": [],
   "source": [
    "data_boston_y = boston.target"
   ]
  },
  {
   "cell_type": "code",
   "execution_count": 97,
   "metadata": {},
   "outputs": [],
   "source": [
    "bX_train, bX_test, by_train, by_test = train_test_split(data_boston_X,data_boston_y, test_size = 0.2, random_state = 0)"
   ]
  },
  {
   "cell_type": "code",
   "execution_count": 98,
   "metadata": {},
   "outputs": [],
   "source": [
    "ml_reg = mutual_info_regression(bX_train,by_train)"
   ]
  },
  {
   "cell_type": "code",
   "execution_count": 99,
   "metadata": {},
   "outputs": [],
   "source": [
    "ml_reg = pd.Series(ml_reg)\n",
    "ml_reg.index = bX_train.columns"
   ]
  },
  {
   "cell_type": "code",
   "execution_count": 100,
   "metadata": {},
   "outputs": [],
   "source": [
    "ml_reg.sort_values(ascending = False, inplace = True)"
   ]
  },
  {
   "cell_type": "code",
   "execution_count": 101,
   "metadata": {},
   "outputs": [
    {
     "data": {
      "text/plain": [
       "<matplotlib.axes._subplots.AxesSubplot at 0x1ed4d38fa88>"
      ]
     },
     "execution_count": 101,
     "metadata": {},
     "output_type": "execute_result"
    },
    {
     "data": {
      "image/png": "[encoded data removed]",
      "text/plain": [
       "<Figure size 1152x576 with 1 Axes>"
      ]
     },
     "metadata": {
      "needs_background": "light"
     },
     "output_type": "display_data"
    }
   ],
   "source": [
    "ml_reg.plot.bar(figsize = (16,8))"
   ]
  },
  {
   "cell_type": "code",
   "execution_count": 103,
   "metadata": {},
   "outputs": [
    {
     "data": {
      "text/plain": [
       "Index(['CRIM', 'INDUS', 'NOX', 'RM', 'AGE', 'DIS', 'TAX', 'PTRATIO', 'LSTAT'], dtype='object')"
      ]
     },
     "execution_count": 103,
     "metadata": {},
     "output_type": "execute_result"
    }
   ],
   "source": [
    "sel = SelectKBest(mutual_info_regression, k=9).fit(bX_train, by_train)\n",
    "bX_train.columns[sel.get_support()]"
   ]
  },
  {
   "cell_type": "code",
   "execution_count": 104,
   "metadata": {},
   "outputs": [],
   "source": [
    "model = LinearRegression()\n",
    "model.fit(bX_train, by_train)\n",
    "y_predict = model.predict(bX_test)"
   ]
  },
  {
   "cell_type": "code",
   "execution_count": 105,
   "metadata": {},
   "outputs": [
    {
     "data": {
      "text/plain": [
       "0.5892223849182507"
      ]
     },
     "execution_count": 105,
     "metadata": {},
     "output_type": "execute_result"
    }
   ],
   "source": [
    "r2_score(by_test, y_predict)"
   ]
  },
  {
   "cell_type": "code",
   "execution_count": 106,
   "metadata": {},
   "outputs": [
    {
     "data": {
      "text/plain": [
       "5.783509315085135"
      ]
     },
     "execution_count": 106,
     "metadata": {},
     "output_type": "execute_result"
    }
   ],
   "source": [
    "np.sqrt(mean_squared_error(by_test,y_predict))"
   ]
  },
  {
   "cell_type": "code",
   "execution_count": 107,
   "metadata": {},
   "outputs": [],
   "source": [
    "bX_train_mi = sel.transform(bX_train)\n",
    "bX_test_mi = sel.transform(bX_test)"
   ]
  },
  {
   "cell_type": "code",
   "execution_count": 108,
   "metadata": {},
   "outputs": [],
   "source": [
    "model = LinearRegression()\n",
    "model.fit(bX_train_mi, by_train)\n",
    "y_predict = model.predict(bX_test_mi)"
   ]
  },
  {
   "cell_type": "code",
   "execution_count": 109,
   "metadata": {},
   "outputs": [
    {
     "data": {
      "text/plain": [
       "0.531712760696157"
      ]
     },
     "execution_count": 109,
     "metadata": {},
     "output_type": "execute_result"
    }
   ],
   "source": [
    "r2_score(by_test, y_predict)"
   ]
  },
  {
   "cell_type": "code",
   "execution_count": 110,
   "metadata": {},
   "outputs": [
    {
     "data": {
      "text/plain": [
       "6.175103151293751"
      ]
     },
     "execution_count": 110,
     "metadata": {},
     "output_type": "execute_result"
    }
   ],
   "source": [
    "np.sqrt(mean_squared_error(by_test,y_predict)) \n",
    "# this feature selection didn't perform better, therefore it is not necessary to get better accuracy by using feature selection"
   ]
  },
  {
   "cell_type": "markdown",
   "metadata": {},
   "source": [
    "#### ___5. Feature Selection using ROC-AUC and RMSE___"
   ]
  },
  {
   "cell_type": "markdown",
   "metadata": {},
   "source": [
    "##### ___Feature Selection using ROC Curve___"
   ]
  },
  {
   "attachments": {
    "image.png": {
     "image/png": "[encoded data removed]"
    }
   },
   "cell_type": "markdown",
   "metadata": {},
   "source": [
    "_**Receiver Operator Characteristic (ROC)** curve is a well know Classification performance metrics. Owing to its superiority in dealing  with imbalanced and cost-sensitive data, the ROC curve has been exploited as a popular metric to evaluate ML model._\n",
    "\n",
    "_AUC - ROC curve is a performance measurement for classification problem at various thresholds settings. ROC is a probability curve and AUC represents degree or measure of separability._\n",
    "\n",
    "_It tells how much model is capable of distinguishing between classes. Higher the AUC, better the model is at predicting 0s as 0s and 1s as 1s. By analogy, Higher the AUC, better the model is at distinguishing between patients with disease and no disease._\n",
    "\n",
    "_The ROC curve is plotted with TPR against the FPR where TPR is on y-axis and FPR is on the x-axis._\n",
    "\n",
    "![image.png](attachment:image.png)\n",
    "\n",
    "___TPR (True Positive Rate) / Recall /Sensitivity:___\n",
    "\n",
    "![image.png](attachment:image.png)\n",
    "\n",
    "___Specificity:___\n",
    "\n",
    "![image.png](attachment:image.png)\n",
    "\n",
    "___FPR:___\n",
    "\n",
    "![image.png](attachment:image.png)"
   ]
  },
  {
   "cell_type": "code",
   "execution_count": 111,
   "metadata": {},
   "outputs": [],
   "source": [
    "from sklearn.metrics import roc_auc_score"
   ]
  },
  {
   "cell_type": "code",
   "execution_count": 113,
   "metadata": {},
   "outputs": [],
   "source": [
    "roc_score = []\n",
    "\n",
    "for feature in X_train_filter.columns:\n",
    "    clf = RandomForestClassifier(n_estimators=100, n_jobs=-1, random_state=0)\n",
    "    clf.fit(X_train_filter[feature].to_frame(), y_train)\n",
    "    y_pred = clf.predict(X_test_filter[feature].to_frame())\n",
    "    roc_score.append(roc_auc_score(y_test, y_pred))"
   ]
  },
  {
   "cell_type": "code",
   "execution_count": 114,
   "metadata": {},
   "outputs": [],
   "source": [
    "roc_score = pd.Series(roc_score)\n",
    "roc_score.index = X_test_filter.columns\n",
    "roc_score.sort_values(ascending = False, inplace = True)"
   ]
  },
  {
   "cell_type": "code",
   "execution_count": 115,
   "metadata": {},
   "outputs": [
    {
     "data": {
      "text/plain": [
       "18     0.505729\n",
       "15     0.505729\n",
       "0      0.503489\n",
       "273    0.503352\n",
       "241    0.502603\n",
       "         ...   \n",
       "123    0.499384\n",
       "132    0.499367\n",
       "122    0.499247\n",
       "234    0.499161\n",
       "236    0.497672\n",
       "Length: 274, dtype: float64"
      ]
     },
     "execution_count": 115,
     "metadata": {},
     "output_type": "execute_result"
    }
   ],
   "source": [
    "roc_score"
   ]
  },
  {
   "cell_type": "code",
   "execution_count": 116,
   "metadata": {},
   "outputs": [],
   "source": [
    "# If features value is less than 0.5 then it adds no value to the model\n",
    "sel  = roc_score[roc_score>0.50]"
   ]
  },
  {
   "cell_type": "code",
   "execution_count": 117,
   "metadata": {},
   "outputs": [],
   "source": [
    "X_train_roc = X_train_filter[sel.index]\n",
    "X_test_roc = X_test_filter[sel.index]"
   ]
  },
  {
   "cell_type": "code",
   "execution_count": 118,
   "metadata": {},
   "outputs": [
    {
     "name": "stdout",
     "output_type": "stream",
     "text": [
      "Accuracy:  0.9541568008418837\n",
      "Wall time: 11.2 s\n"
     ]
    }
   ],
   "source": [
    "# model with filtered data\n",
    "%time run_randomForest(X_train_roc, X_test_roc, y_train, y_test)"
   ]
  },
  {
   "cell_type": "markdown",
   "metadata": {},
   "source": [
    "##### ___Feature Selection using RMSE___"
   ]
  },
  {
   "cell_type": "code",
   "execution_count": 122,
   "metadata": {},
   "outputs": [
    {
     "data": {
      "text/html": [
       "<div>\n",
       "<style scoped>\n",
       "    .dataframe tbody tr th:only-of-type {\n",
       "        vertical-align: middle;\n",
       "    }\n",
       "\n",
       "    .dataframe tbody tr th {\n",
       "        vertical-align: top;\n",
       "    }\n",
       "\n",
       "    .dataframe thead th {\n",
       "        text-align: right;\n",
       "    }\n",
       "</style>\n",
       "<table border=\"1\" class=\"dataframe\">\n",
       "  <thead>\n",
       "    <tr style=\"text-align: right;\">\n",
       "      <th></th>\n",
       "      <th>CRIM</th>\n",
       "      <th>ZN</th>\n",
       "      <th>INDUS</th>\n",
       "      <th>CHAS</th>\n",
       "      <th>NOX</th>\n",
       "      <th>RM</th>\n",
       "      <th>AGE</th>\n",
       "      <th>DIS</th>\n",
       "      <th>RAD</th>\n",
       "      <th>TAX</th>\n",
       "      <th>PTRATIO</th>\n",
       "      <th>B</th>\n",
       "      <th>LSTAT</th>\n",
       "    </tr>\n",
       "  </thead>\n",
       "  <tbody>\n",
       "    <tr>\n",
       "      <th>220</th>\n",
       "      <td>0.35809</td>\n",
       "      <td>0.0</td>\n",
       "      <td>6.20</td>\n",
       "      <td>1.0</td>\n",
       "      <td>0.507</td>\n",
       "      <td>6.951</td>\n",
       "      <td>88.5</td>\n",
       "      <td>2.8617</td>\n",
       "      <td>8.0</td>\n",
       "      <td>307.0</td>\n",
       "      <td>17.4</td>\n",
       "      <td>391.70</td>\n",
       "      <td>9.71</td>\n",
       "    </tr>\n",
       "    <tr>\n",
       "      <th>71</th>\n",
       "      <td>0.15876</td>\n",
       "      <td>0.0</td>\n",
       "      <td>10.81</td>\n",
       "      <td>0.0</td>\n",
       "      <td>0.413</td>\n",
       "      <td>5.961</td>\n",
       "      <td>17.5</td>\n",
       "      <td>5.2873</td>\n",
       "      <td>4.0</td>\n",
       "      <td>305.0</td>\n",
       "      <td>19.2</td>\n",
       "      <td>376.94</td>\n",
       "      <td>9.88</td>\n",
       "    </tr>\n",
       "    <tr>\n",
       "      <th>240</th>\n",
       "      <td>0.11329</td>\n",
       "      <td>30.0</td>\n",
       "      <td>4.93</td>\n",
       "      <td>0.0</td>\n",
       "      <td>0.428</td>\n",
       "      <td>6.897</td>\n",
       "      <td>54.3</td>\n",
       "      <td>6.3361</td>\n",
       "      <td>6.0</td>\n",
       "      <td>300.0</td>\n",
       "      <td>16.6</td>\n",
       "      <td>391.25</td>\n",
       "      <td>11.38</td>\n",
       "    </tr>\n",
       "    <tr>\n",
       "      <th>6</th>\n",
       "      <td>0.08829</td>\n",
       "      <td>12.5</td>\n",
       "      <td>7.87</td>\n",
       "      <td>0.0</td>\n",
       "      <td>0.524</td>\n",
       "      <td>6.012</td>\n",
       "      <td>66.6</td>\n",
       "      <td>5.5605</td>\n",
       "      <td>5.0</td>\n",
       "      <td>311.0</td>\n",
       "      <td>15.2</td>\n",
       "      <td>395.60</td>\n",
       "      <td>12.43</td>\n",
       "    </tr>\n",
       "    <tr>\n",
       "      <th>417</th>\n",
       "      <td>25.94060</td>\n",
       "      <td>0.0</td>\n",
       "      <td>18.10</td>\n",
       "      <td>0.0</td>\n",
       "      <td>0.679</td>\n",
       "      <td>5.304</td>\n",
       "      <td>89.1</td>\n",
       "      <td>1.6475</td>\n",
       "      <td>24.0</td>\n",
       "      <td>666.0</td>\n",
       "      <td>20.2</td>\n",
       "      <td>127.36</td>\n",
       "      <td>26.64</td>\n",
       "    </tr>\n",
       "    <tr>\n",
       "      <th>...</th>\n",
       "      <td>...</td>\n",
       "      <td>...</td>\n",
       "      <td>...</td>\n",
       "      <td>...</td>\n",
       "      <td>...</td>\n",
       "      <td>...</td>\n",
       "      <td>...</td>\n",
       "      <td>...</td>\n",
       "      <td>...</td>\n",
       "      <td>...</td>\n",
       "      <td>...</td>\n",
       "      <td>...</td>\n",
       "      <td>...</td>\n",
       "    </tr>\n",
       "    <tr>\n",
       "      <th>323</th>\n",
       "      <td>0.28392</td>\n",
       "      <td>0.0</td>\n",
       "      <td>7.38</td>\n",
       "      <td>0.0</td>\n",
       "      <td>0.493</td>\n",
       "      <td>5.708</td>\n",
       "      <td>74.3</td>\n",
       "      <td>4.7211</td>\n",
       "      <td>5.0</td>\n",
       "      <td>287.0</td>\n",
       "      <td>19.6</td>\n",
       "      <td>391.13</td>\n",
       "      <td>11.74</td>\n",
       "    </tr>\n",
       "    <tr>\n",
       "      <th>192</th>\n",
       "      <td>0.08664</td>\n",
       "      <td>45.0</td>\n",
       "      <td>3.44</td>\n",
       "      <td>0.0</td>\n",
       "      <td>0.437</td>\n",
       "      <td>7.178</td>\n",
       "      <td>26.3</td>\n",
       "      <td>6.4798</td>\n",
       "      <td>5.0</td>\n",
       "      <td>398.0</td>\n",
       "      <td>15.2</td>\n",
       "      <td>390.49</td>\n",
       "      <td>2.87</td>\n",
       "    </tr>\n",
       "    <tr>\n",
       "      <th>117</th>\n",
       "      <td>0.15098</td>\n",
       "      <td>0.0</td>\n",
       "      <td>10.01</td>\n",
       "      <td>0.0</td>\n",
       "      <td>0.547</td>\n",
       "      <td>6.021</td>\n",
       "      <td>82.6</td>\n",
       "      <td>2.7474</td>\n",
       "      <td>6.0</td>\n",
       "      <td>432.0</td>\n",
       "      <td>17.8</td>\n",
       "      <td>394.51</td>\n",
       "      <td>10.30</td>\n",
       "    </tr>\n",
       "    <tr>\n",
       "      <th>47</th>\n",
       "      <td>0.22927</td>\n",
       "      <td>0.0</td>\n",
       "      <td>6.91</td>\n",
       "      <td>0.0</td>\n",
       "      <td>0.448</td>\n",
       "      <td>6.030</td>\n",
       "      <td>85.5</td>\n",
       "      <td>5.6894</td>\n",
       "      <td>3.0</td>\n",
       "      <td>233.0</td>\n",
       "      <td>17.9</td>\n",
       "      <td>392.74</td>\n",
       "      <td>18.80</td>\n",
       "    </tr>\n",
       "    <tr>\n",
       "      <th>172</th>\n",
       "      <td>0.13914</td>\n",
       "      <td>0.0</td>\n",
       "      <td>4.05</td>\n",
       "      <td>0.0</td>\n",
       "      <td>0.510</td>\n",
       "      <td>5.572</td>\n",
       "      <td>88.5</td>\n",
       "      <td>2.5961</td>\n",
       "      <td>5.0</td>\n",
       "      <td>296.0</td>\n",
       "      <td>16.6</td>\n",
       "      <td>396.90</td>\n",
       "      <td>14.69</td>\n",
       "    </tr>\n",
       "  </tbody>\n",
       "</table>\n",
       "<p>404 rows × 13 columns</p>\n",
       "</div>"
      ],
      "text/plain": [
       "         CRIM    ZN  INDUS  CHAS    NOX     RM   AGE     DIS   RAD    TAX  \\\n",
       "220   0.35809   0.0   6.20   1.0  0.507  6.951  88.5  2.8617   8.0  307.0   \n",
       "71    0.15876   0.0  10.81   0.0  0.413  5.961  17.5  5.2873   4.0  305.0   \n",
       "240   0.11329  30.0   4.93   0.0  0.428  6.897  54.3  6.3361   6.0  300.0   \n",
       "6     0.08829  12.5   7.87   0.0  0.524  6.012  66.6  5.5605   5.0  311.0   \n",
       "417  25.94060   0.0  18.10   0.0  0.679  5.304  89.1  1.6475  24.0  666.0   \n",
       "..        ...   ...    ...   ...    ...    ...   ...     ...   ...    ...   \n",
       "323   0.28392   0.0   7.38   0.0  0.493  5.708  74.3  4.7211   5.0  287.0   \n",
       "192   0.08664  45.0   3.44   0.0  0.437  7.178  26.3  6.4798   5.0  398.0   \n",
       "117   0.15098   0.0  10.01   0.0  0.547  6.021  82.6  2.7474   6.0  432.0   \n",
       "47    0.22927   0.0   6.91   0.0  0.448  6.030  85.5  5.6894   3.0  233.0   \n",
       "172   0.13914   0.0   4.05   0.0  0.510  5.572  88.5  2.5961   5.0  296.0   \n",
       "\n",
       "     PTRATIO       B  LSTAT  \n",
       "220     17.4  391.70   9.71  \n",
       "71      19.2  376.94   9.88  \n",
       "240     16.6  391.25  11.38  \n",
       "6       15.2  395.60  12.43  \n",
       "417     20.2  127.36  26.64  \n",
       "..       ...     ...    ...  \n",
       "323     19.6  391.13  11.74  \n",
       "192     15.2  390.49   2.87  \n",
       "117     17.8  394.51  10.30  \n",
       "47      17.9  392.74  18.80  \n",
       "172     16.6  396.90  14.69  \n",
       "\n",
       "[404 rows x 13 columns]"
      ]
     },
     "execution_count": 122,
     "metadata": {},
     "output_type": "execute_result"
    }
   ],
   "source": [
    "bX_train"
   ]
  },
  {
   "cell_type": "code",
   "execution_count": 128,
   "metadata": {},
   "outputs": [],
   "source": [
    "mse_score = []\n",
    "\n",
    "for feature in bX_train.columns:\n",
    "    model = LinearRegression()\n",
    "    model.fit(bX_train[feature].to_frame(), by_train)\n",
    "    by_pred = model.predict(bX_test[feature].to_frame())\n",
    "    mse_score.append(mean_squared_error(by_test, by_pred))"
   ]
  },
  {
   "cell_type": "code",
   "execution_count": 129,
   "metadata": {},
   "outputs": [
    {
     "data": {
      "text/plain": [
       "[76.38674157646072,\n",
       " 84.66034377707905,\n",
       " 77.02905244667242,\n",
       " 79.36120219345942,\n",
       " 76.95375968209433,\n",
       " 46.907351627395315,\n",
       " 80.3915476111525,\n",
       " 82.61874125667718,\n",
       " 82.46499985731933,\n",
       " 78.30831374720843,\n",
       " 81.79497121208003,\n",
       " 77.75285601192718,\n",
       " 46.33630536002592]"
      ]
     },
     "execution_count": 129,
     "metadata": {},
     "output_type": "execute_result"
    }
   ],
   "source": [
    "mse_score"
   ]
  },
  {
   "cell_type": "code",
   "execution_count": 130,
   "metadata": {},
   "outputs": [],
   "source": [
    "mse_score = pd.Series(mse_score)\n",
    "mse_score.index = bX_train.columns\n",
    "mse_score.sort_values(ascending = False, inplace = True)"
   ]
  },
  {
   "cell_type": "code",
   "execution_count": 131,
   "metadata": {},
   "outputs": [
    {
     "data": {
      "text/plain": [
       "<matplotlib.axes._subplots.AxesSubplot at 0x1ed52e68ac8>"
      ]
     },
     "execution_count": 131,
     "metadata": {},
     "output_type": "execute_result"
    },
    {
     "data": {
      "image/png": "[encoded data removed]",
      "text/plain": [
       "<Figure size 432x288 with 1 Axes>"
      ]
     },
     "metadata": {
      "needs_background": "light"
     },
     "output_type": "display_data"
    }
   ],
   "source": [
    "mse_score.plot.bar()"
   ]
  },
  {
   "cell_type": "code",
   "execution_count": 143,
   "metadata": {},
   "outputs": [],
   "source": [
    "feature_to_be_used = ['RM','LSTAT'] # selected basis MSE, which is half when compared to others."
   ]
  },
  {
   "cell_type": "code",
   "execution_count": 145,
   "metadata": {},
   "outputs": [],
   "source": [
    "X_train_mse = bX_train[feature_not_to_be_used]\n",
    "X_test_mse = bX_test[feature_not_to_be_used]"
   ]
  },
  {
   "cell_type": "code",
   "execution_count": 146,
   "metadata": {},
   "outputs": [
    {
     "data": {
      "text/plain": [
       "37.38310563877996"
      ]
     },
     "execution_count": 146,
     "metadata": {},
     "output_type": "execute_result"
    }
   ],
   "source": [
    "# selected Feature model\n",
    "model = LinearRegression()\n",
    "model.fit(X_train_mse, by_train)\n",
    "by_pred = model.predict(X_test_mse)\n",
    "mean_squared_error(by_test, by_pred)"
   ]
  },
  {
   "cell_type": "code",
   "execution_count": 147,
   "metadata": {},
   "outputs": [
    {
     "data": {
      "text/plain": [
       "6.114172522817782"
      ]
     },
     "execution_count": 147,
     "metadata": {},
     "output_type": "execute_result"
    }
   ],
   "source": [
    "np.sqrt(mean_squared_error(by_test, by_pred)) # again the feature selection didn't perform well"
   ]
  },
  {
   "cell_type": "code",
   "execution_count": 149,
   "metadata": {},
   "outputs": [
    {
     "data": {
      "text/plain": [
       "33.44897999767653"
      ]
     },
     "execution_count": 149,
     "metadata": {},
     "output_type": "execute_result"
    }
   ],
   "source": [
    "# original Dataset model\n",
    "model = LinearRegression()\n",
    "model.fit(bX_train, by_train)\n",
    "by_pred = model.predict(bX_test)\n",
    "mean_squared_error(by_test, by_pred)"
   ]
  },
  {
   "cell_type": "code",
   "execution_count": 150,
   "metadata": {},
   "outputs": [
    {
     "data": {
      "text/plain": [
       "5.783509315085135"
      ]
     },
     "execution_count": 150,
     "metadata": {},
     "output_type": "execute_result"
    }
   ],
   "source": [
    "np.sqrt(mean_squared_error(by_test, by_pred))"
   ]
  },
  {
   "cell_type": "code",
   "execution_count": 148,
   "metadata": {},
   "outputs": [
    {
     "data": {
      "text/plain": [
       "9.188011545278203"
      ]
     },
     "execution_count": 148,
     "metadata": {},
     "output_type": "execute_result"
    }
   ],
   "source": [
    "np.std(data_boston_y)"
   ]
  },
  {
   "cell_type": "markdown",
   "metadata": {},
   "source": [
    "#### ___6. Feature Selection using ANOVA___"
   ]
  },
  {
   "cell_type": "markdown",
   "metadata": {},
   "source": [
    "___Definition of T-test___\n",
    "\n",
    "_The t-test is described as the statistical test that examines whether the population means of two samples greatly differ from one another, using t-distribution which is used when the standard deviation is not known, and the sample size is small. It is a tool to analyse whether the two samples are drawn from the same population._\n",
    "\n",
    "_The test is based on t-statistic, which assumes that variable is normally distributed (symmetric bell-shaped distribution) and mean is known and population variance is calculated from the sample._\n",
    "\n",
    "_In t-test null hypothesis takes the form of H0: µ(x) = µ(y) against alternative hypothesis H1: µ(x) ≠ µ(y), wherein µ(x) and µ(y) represents the population means. The degree of freedom of t-test is n1 + n2 – 2_ \n",
    "\n",
    "_https://www.youtube.com/watch?v=pTmLQvMM-1M_\n",
    "\n",
    "_https://www.youtube.com/watch?v=Uv6nGIgZMVw_\n",
    "\n",
    "___Definition of ANOVA___\n",
    "\n",
    "_Analysis of Variance (ANOVA) is a statistical method, commonly used in all those situations where a comparison is to be made between more than two population means like the yield of the crop from multiple seed varieties. It is a vital tool of analysis for the researcher that enables him to conduct test simultaneously. When we use ANOVA, it is assumed that the sample is drawn from the normally distributed population and the population variance is equal. ANOVA is applied to numerical data._\n",
    "\n",
    "_In ANOVA, the total amount of variation in a dataset is split into two types, i.e. the amount allocated to chance and amount assigned to particular causes. Its basic principle is to test the variances among population means by assessing the amount of variation within group items, proportionate to the amount of variation between groups. Within the sample, the variance is because of the random unexplained disturbance whereas different treatment may cause between sample variance._\n",
    "\n",
    "_With the use of this technique, we test, null hypothesis (H0) wherein all population means are the same, or alternative hypothesis (H1) wherein at least one population mean is different._\n",
    "\n",
    "_https://www.youtube.com/watch?v=qV-WoquC4dA_"
   ]
  },
  {
   "cell_type": "markdown",
   "metadata": {},
   "source": [
    "##### ___Classification___"
   ]
  },
  {
   "cell_type": "code",
   "execution_count": 152,
   "metadata": {},
   "outputs": [],
   "source": [
    "from sklearn.feature_selection import f_classif, f_regression"
   ]
  },
  {
   "cell_type": "code",
   "execution_count": 153,
   "metadata": {},
   "outputs": [],
   "source": [
    "f_c = f_classif(X_train_filter, y_train)"
   ]
  },
  {
   "cell_type": "code",
   "execution_count": 154,
   "metadata": {},
   "outputs": [
    {
     "data": {
      "text/plain": [
       "(array([1.60028075e+00, 1.84231820e+00, 6.52522658e+02, 2.36557297e-02,\n",
       "        2.05099439e+00, 3.83223378e-03, 1.77031946e-01, 1.04109236e-01,\n",
       "        1.33788308e+01, 1.49992708e+01, 1.80574837e-01, 1.95323302e+00,\n",
       "        2.45465884e-02, 4.49785121e+01, 1.90741154e+01, 3.39860395e+01,\n",
       "        4.73464159e+01, 2.02663283e+01, 3.31639945e+01, 1.82695149e-02,\n",
       "        1.84925827e-03, 6.89392560e+01, 1.17241000e+03, 1.45343619e+02,\n",
       "        4.86573726e+01, 9.71447491e+01, 7.33998136e+01, 1.00180026e+02,\n",
       "        7.69337455e+01, 7.70635605e+01, 2.20649375e+01, 2.16475987e+01,\n",
       "        1.00574695e+02, 2.76716050e+01, 5.91457347e+01, 6.46245326e+01,\n",
       "        3.46457548e+01, 2.23588017e+01, 3.19701122e+01, 2.23588017e+01,\n",
       "        2.41715942e+01, 2.41715942e+01, 1.44767846e+03, 7.65389017e-02,\n",
       "        7.80145360e-02, 7.80145360e-02, 8.81055018e+01, 3.88108484e-04,\n",
       "        8.43507555e+01, 1.89142374e-02, 2.51323397e+00, 4.33093661e+02,\n",
       "        5.21635523e+01, 1.14884833e+03, 1.45008587e+02, 4.86573726e+01,\n",
       "        3.59434437e+01, 7.26835243e+01, 9.19509590e+01, 7.63359600e+01,\n",
       "        7.70233141e+01, 1.87100681e+01, 1.86614520e+01, 9.36557958e+01,\n",
       "        1.36999873e-01, 3.38807275e+00, 6.76532443e-03, 1.36916610e-02,\n",
       "        9.22062240e+00, 6.77421666e+00, 5.90751958e+01, 6.45759888e+01,\n",
       "        2.01145754e+01, 2.01145754e+01, 2.21313587e+01, 2.21313587e+01,\n",
       "        4.09742125e-01, 9.36177839e-02, 7.85147082e-02, 2.04857328e-01,\n",
       "        1.95485501e+00, 1.50170034e+00, 2.38059551e+00, 2.27756350e+00,\n",
       "        1.69736780e+00, 1.58543926e+00, 2.15865359e+00, 2.01070790e+00,\n",
       "        6.63053389e+01, 1.22478384e+03, 1.03635238e+00, 7.21729346e-01,\n",
       "        8.15722255e-02, 8.15722255e-02, 1.51530017e+00, 3.98149780e+02,\n",
       "        7.58049884e-01, 2.88598202e-01, 2.88598202e-01, 6.69560780e+01,\n",
       "        2.86458402e-02, 2.76856842e+00, 6.98391079e+01, 2.76856842e+00,\n",
       "        1.55417031e+01, 1.18218722e+03, 2.95692393e+00, 2.57563410e+00,\n",
       "        4.38460307e-02, 1.15073890e+01, 7.79039309e-02, 1.32270642e+00,\n",
       "        3.12122649e+01, 4.40584982e+01, 1.26959396e+01, 4.11909274e-02,\n",
       "        5.59065810e+01, 1.04023670e+00, 2.74362685e-02, 4.93477139e-02,\n",
       "        3.42057030e-01, 3.03204081e+01, 8.50541833e-01, 9.28561806e-01,\n",
       "        7.79039309e-02, 8.81945730e+01, 9.44908791e-02, 1.40209571e-02,\n",
       "        5.71069928e-01, 7.04397794e-02, 1.09335484e+00, 3.28157899e+00,\n",
       "        3.85648163e+01, 3.20484619e-01, 6.99353987e+02, 8.23832652e-02,\n",
       "        8.23832652e-02, 3.85438952e+00, 1.09142201e-02, 4.11909272e-02,\n",
       "        6.94934428e-01, 5.82135626e-02, 2.90087196e-01, 4.11909274e-02,\n",
       "        1.23577013e-01, 1.23577014e-01, 1.64772172e-01, 4.11909274e-02,\n",
       "        1.40128323e+00, 3.85438952e+00, 1.09142201e-02, 4.11909272e-02,\n",
       "        6.94934428e-01, 5.82135626e-02, 2.90087196e-01, 4.11909274e-02,\n",
       "        1.23577013e-01, 1.23577014e-01, 1.64772172e-01, 4.11909274e-02,\n",
       "        1.40128323e+00, 5.09376471e-02, 6.07146853e-02, 2.61402936e+01,\n",
       "        4.87544881e+00, 6.14640879e-02, 3.85340663e-01, 3.81501320e-01,\n",
       "        1.10173324e-01, 7.54957128e-02, 5.06613206e-01, 3.80729874e-01,\n",
       "        8.67852230e-02, 3.57922103e-01, 7.50709785e+00, 4.11909274e-02,\n",
       "        3.46170248e+00, 7.85061081e+00, 7.30184596e-02, 7.39726552e-02,\n",
       "        4.87242330e-02, 2.32425087e-01, 8.91739511e-02, 4.11909274e-02,\n",
       "        6.81186607e-02, 1.36439163e-01, 3.35906845e+00, 3.09521805e+00,\n",
       "        1.78226210e+00, 1.91009138e+00, 3.81553260e+00, 3.82668338e+01,\n",
       "        1.17738172e+00, 4.16709206e+01, 3.94504813e+00, 6.33755820e-01,\n",
       "        3.23910932e+00, 4.08732917e-02, 9.41859363e-01, 1.03270746e+00,\n",
       "        1.62814437e+00, 6.18619013e+00, 6.12532669e-01, 4.05237678e+01,\n",
       "        9.81002356e+00, 1.54907283e+01, 2.38689998e-03, 1.42759952e+03,\n",
       "        4.46792340e+01, 6.45744036e+01, 7.58805043e+01, 1.71902346e+01,\n",
       "        1.04459578e+01, 3.08303453e-02, 2.87146266e-02, 5.83623516e-01,\n",
       "        6.10109316e-01, 1.63249055e+01, 1.39791049e+01, 1.26645984e-01,\n",
       "        1.60974657e-01, 1.54761543e+01, 1.09149128e+01, 1.68692421e+01,\n",
       "        1.18716087e+01, 3.77530340e+00, 8.81762256e-01, 2.36599671e+01,\n",
       "        6.42344547e+00, 7.04104386e-01, 6.80512680e-01, 2.25180633e+00,\n",
       "        2.31896956e+00, 3.28039722e-02, 2.29959391e+01, 1.40483582e+01,\n",
       "        1.43979571e+01, 2.03875515e+01, 1.23415452e+00, 5.99323706e-01,\n",
       "        1.14639575e+00, 1.02943414e+00, 2.25699823e+01, 9.55093974e+00,\n",
       "        3.05449013e+01, 3.13370547e+01, 3.46275055e+01, 1.09514283e+01,\n",
       "        4.34222555e+01, 4.11271651e+01, 8.91433068e+00, 3.00311207e+00,\n",
       "        8.93566586e+00, 9.14077564e+00, 4.11909274e-02, 4.11909274e-02,\n",
       "        4.11909274e-02, 1.02006204e-01, 5.45801890e-02, 1.20385863e-02,\n",
       "        2.26353083e-03, 4.85167953e-02, 4.11909274e-02, 6.01620986e-02,\n",
       "        7.24271955e-02, 7.47376147e-01, 3.39976372e-01, 5.60459115e-01,\n",
       "        6.25612416e-01, 6.09244792e-01, 4.08463643e-01, 5.93667105e-01,\n",
       "        5.58099345e-01, 3.01340453e+01]),\n",
       " array([2.05868277e-001, 1.74684519e-001, 3.61058900e-143, 8.77764638e-001,\n",
       "        1.52111954e-001, 9.50638659e-001, 6.73937932e-001, 7.46954139e-001,\n",
       "        2.54694987e-004, 1.07665219e-004, 6.70881203e-001, 1.62243985e-001,\n",
       "        8.75502686e-001, 2.00944834e-011, 1.25946314e-005, 5.57884193e-009,\n",
       "        6.00603804e-012, 6.75008479e-006, 8.51111707e-009, 8.92482049e-001,\n",
       "        9.65699281e-001, 1.03603522e-016, 1.61627933e-254, 1.97246586e-033,\n",
       "        3.07921894e-012, 6.70394760e-023, 1.08310123e-017, 1.45129341e-023,\n",
       "        1.81254894e-018, 1.69738257e-018, 2.64155567e-006, 3.28308930e-006,\n",
       "        1.18948489e-023, 1.44242896e-007, 1.48607467e-014, 9.22367780e-016,\n",
       "        3.97567633e-009, 2.26680240e-006, 1.57262751e-008, 2.26680240e-006,\n",
       "        8.83516320e-007, 8.83516320e-007, 4.47046848e-313, 7.82044702e-001,\n",
       "        7.80007251e-001, 7.80007251e-001, 6.41111372e-021, 9.84282381e-001,\n",
       "        4.26921292e-020, 8.90613094e-001, 1.12899243e-001, 7.45405382e-096,\n",
       "        5.16612508e-013, 1.71147140e-249, 2.33389158e-033, 3.07921894e-012,\n",
       "        2.04269643e-009, 1.55630591e-017, 9.20597997e-022, 2.45235873e-018,\n",
       "        1.73228201e-018, 1.52418981e-005, 1.56353934e-005, 3.89522044e-022,\n",
       "        7.11283240e-001, 6.56745347e-002, 9.34446918e-001, 9.06851429e-001,\n",
       "        2.39405468e-003, 9.25065105e-003, 1.54025934e-014, 9.45349474e-016,\n",
       "        7.30719598e-006, 7.30719598e-006, 2.55175087e-006, 2.55175087e-006,\n",
       "        5.22102833e-001, 7.59628357e-001, 7.79321367e-001, 6.50830005e-001,\n",
       "        1.62069735e-001, 2.20414667e-001, 1.22855911e-001, 1.31263129e-001,\n",
       "        1.92637504e-001, 2.07983781e-001, 1.41774038e-001, 1.56197546e-001,\n",
       "        3.93462392e-016, 1.11226280e-265, 3.08675382e-001, 3.95580582e-001,\n",
       "        7.75178952e-001, 7.75178952e-001, 2.18336866e-001, 2.67245535e-088,\n",
       "        3.83942933e-001, 5.91122204e-001, 5.91122204e-001, 2.82938855e-016,\n",
       "        8.65599920e-001, 9.61372542e-002, 6.56840446e-017, 9.61372542e-002,\n",
       "        8.07953277e-005, 1.33037890e-256, 8.55155658e-002, 1.08525800e-001,\n",
       "        8.34141036e-001, 6.93642169e-004, 7.80159243e-001, 2.50111433e-001,\n",
       "        2.32286783e-008, 3.21374571e-011, 3.66730649e-004, 8.39170508e-001,\n",
       "        7.70150112e-014, 3.07770485e-001, 8.68441628e-001, 8.24202958e-001,\n",
       "        5.58646435e-001, 3.67728809e-008, 3.56402760e-001, 3.35240749e-001,\n",
       "        7.80159243e-001, 6.12922445e-021, 7.58544785e-001, 9.05743097e-001,\n",
       "        4.49836995e-001, 7.90698435e-001, 2.95733235e-001, 7.00664249e-002,\n",
       "        5.33065506e-010, 5.71318641e-001, 3.05654024e-153, 7.74094270e-001,\n",
       "        7.74094270e-001, 4.96205299e-002, 9.16795810e-001, 8.39170508e-001,\n",
       "        4.04494327e-001, 8.09342900e-001, 5.90166630e-001, 8.39170508e-001,\n",
       "        7.25188070e-001, 7.25188070e-001, 6.84801791e-001, 8.39170508e-001,\n",
       "        2.36513461e-001, 4.96205299e-002, 9.16795810e-001, 8.39170508e-001,\n",
       "        4.04494327e-001, 8.09342900e-001, 5.90166630e-001, 8.39170508e-001,\n",
       "        7.25188070e-001, 7.25188070e-001, 6.84801791e-001, 8.39170508e-001,\n",
       "        2.36513461e-001, 8.21440415e-001, 8.05370728e-001, 3.18449311e-007,\n",
       "        2.72450734e-002, 8.04197514e-001, 5.34761098e-001, 5.36803161e-001,\n",
       "        7.39948039e-001, 7.83497852e-001, 4.76611390e-001, 5.37215189e-001,\n",
       "        7.68305573e-001, 5.49664745e-001, 6.14742334e-003, 8.39170508e-001,\n",
       "        6.28104407e-002, 5.08195945e-003, 7.86992477e-001, 7.85638978e-001,\n",
       "        8.25299002e-001, 6.29733199e-001, 7.65230964e-001, 8.39170508e-001,\n",
       "        7.94096847e-001, 7.11848233e-001, 6.68407521e-002, 7.85276596e-002,\n",
       "        1.81876796e-001, 1.66958184e-001, 5.07840378e-002, 6.20942038e-010,\n",
       "        2.77893972e-001, 1.08813754e-010, 4.70139903e-002, 4.25984100e-001,\n",
       "        7.19046705e-002, 8.39783375e-001, 3.31803979e-001, 3.09527652e-001,\n",
       "        2.01964774e-001, 1.28777675e-002, 4.33838854e-001, 1.95618428e-010,\n",
       "        1.73645578e-003, 8.30031067e-005, 9.61034286e-001, 8.17910907e-309,\n",
       "        2.34102775e-011, 9.46109542e-016, 3.08764306e-018, 3.38628143e-005,\n",
       "        1.22983582e-003, 8.60620006e-001, 8.65440189e-001, 4.44898477e-001,\n",
       "        4.34749694e-001, 5.34235513e-005, 1.85022923e-004, 7.21936499e-001,\n",
       "        6.88262165e-001, 8.36454086e-005, 9.54482767e-004, 4.00975877e-005,\n",
       "        5.70346153e-004, 5.20190756e-002, 3.47723195e-001, 1.15235829e-006,\n",
       "        1.12648312e-002, 4.01411286e-001, 4.09413476e-001, 1.33463728e-001,\n",
       "        1.27809864e-001, 8.56275035e-001, 1.62727438e-006, 1.78334033e-004,\n",
       "        1.48106015e-004, 6.33583939e-006, 2.66604993e-001, 4.38839189e-001,\n",
       "        2.84309167e-001, 3.10295646e-001, 2.03087653e-006, 1.99937293e-003,\n",
       "        3.27562470e-008, 2.17832585e-008, 4.01310096e-009, 9.35858169e-004,\n",
       "        4.44730297e-011, 1.43682910e-010, 2.83054084e-003, 8.31098119e-002,\n",
       "        2.79767273e-003, 2.50079244e-003, 8.39170508e-001, 8.39170508e-001,\n",
       "        8.39170508e-001, 7.49436362e-001, 8.15277654e-001, 9.12631411e-001,\n",
       "        9.62053855e-001, 8.25665295e-001, 8.39170508e-001, 8.06240748e-001,\n",
       "        7.87835936e-001, 3.87311642e-001, 5.59845023e-001, 4.54078213e-001,\n",
       "        4.28972376e-001, 4.35075339e-001, 5.22752739e-001, 4.41007559e-001,\n",
       "        4.55029949e-001, 4.04796897e-008]))"
      ]
     },
     "execution_count": 154,
     "metadata": {},
     "output_type": "execute_result"
    }
   ],
   "source": [
    "f_c"
   ]
  },
  {
   "cell_type": "code",
   "execution_count": 155,
   "metadata": {},
   "outputs": [],
   "source": [
    "p_values = pd.Series(f_c[1])\n",
    "p_values.index = X_train_filter.columns\n",
    "p_values.sort_values(ascending = False, inplace = True)"
   ]
  },
  {
   "cell_type": "code",
   "execution_count": 156,
   "metadata": {},
   "outputs": [
    {
     "data": {
      "text/plain": [
       "47      9.842824e-01\n",
       "20      9.656993e-01\n",
       "260     9.620539e-01\n",
       "206     9.610343e-01\n",
       "5       9.506387e-01\n",
       "           ...      \n",
       "22     1.616279e-254\n",
       "105    1.330379e-256\n",
       "89     1.112263e-265\n",
       "207    8.179109e-309\n",
       "42     4.470468e-313\n",
       "Length: 274, dtype: float64"
      ]
     },
     "execution_count": 156,
     "metadata": {},
     "output_type": "execute_result"
    }
   ],
   "source": [
    "p_values"
   ]
  },
  {
   "cell_type": "code",
   "execution_count": 157,
   "metadata": {},
   "outputs": [],
   "source": [
    "p_values_selected = p_values[p_values<0.05] # 0.05 is selected for null hypothesis we can also select 0.01, 0.03 if needed"
   ]
  },
  {
   "cell_type": "code",
   "execution_count": 158,
   "metadata": {},
   "outputs": [],
   "source": [
    "X_train_f_c = X_train_filter[p_values_selected.index] \n",
    "X_test_f_c = X_test_filter[p_values_selected.index] "
   ]
  },
  {
   "cell_type": "code",
   "execution_count": 159,
   "metadata": {},
   "outputs": [
    {
     "name": "stdout",
     "output_type": "stream",
     "text": [
      "Accuracy:  0.9521836358852933\n",
      "Wall time: 8.68 s\n"
     ]
    }
   ],
   "source": [
    "# model with filtered data\n",
    "%time run_randomForest(X_train_f_c, X_test_f_c, y_train, y_test)"
   ]
  },
  {
   "cell_type": "markdown",
   "metadata": {},
   "source": [
    "##### ___Regression___"
   ]
  },
  {
   "cell_type": "code",
   "execution_count": 160,
   "metadata": {},
   "outputs": [],
   "source": [
    "f_r = f_regression(bX_train, by_train)"
   ]
  },
  {
   "cell_type": "code",
   "execution_count": 161,
   "metadata": {},
   "outputs": [
    {
     "data": {
      "text/plain": [
       "(array([ 81.77212064,  81.1475855 , 153.00493431,  13.09583263,\n",
       "        107.63575126, 397.33191725,  82.83387891,  34.46704936,\n",
       "         88.68548609, 142.08609712, 187.10308463,  57.67850087,\n",
       "        535.13194094]),\n",
       " array([6.56250348e-18, 8.53455987e-18, 5.27647041e-30, 3.33700835e-04,\n",
       "        1.67294465e-22, 5.64340813e-62, 4.20176291e-18, 9.08403584e-09,\n",
       "        3.66673466e-19, 2.94014039e-28, 3.07127177e-35, 2.18386516e-13,\n",
       "        6.88510971e-76]))"
      ]
     },
     "execution_count": 161,
     "metadata": {},
     "output_type": "execute_result"
    }
   ],
   "source": [
    "f_r"
   ]
  },
  {
   "cell_type": "code",
   "execution_count": 163,
   "metadata": {},
   "outputs": [],
   "source": [
    "p_values = pd.Series(f_r[1])\n",
    "p_values.index = bX_train.columns\n",
    "p_values.sort_values(ascending = False, inplace = True)"
   ]
  },
  {
   "cell_type": "code",
   "execution_count": 164,
   "metadata": {},
   "outputs": [
    {
     "data": {
      "text/plain": [
       "CHAS       3.337008e-04\n",
       "DIS        9.084036e-09\n",
       "B          2.183865e-13\n",
       "ZN         8.534560e-18\n",
       "CRIM       6.562503e-18\n",
       "AGE        4.201763e-18\n",
       "RAD        3.666735e-19\n",
       "NOX        1.672945e-22\n",
       "TAX        2.940140e-28\n",
       "INDUS      5.276470e-30\n",
       "PTRATIO    3.071272e-35\n",
       "RM         5.643408e-62\n",
       "LSTAT      6.885110e-76\n",
       "dtype: float64"
      ]
     },
     "execution_count": 164,
     "metadata": {},
     "output_type": "execute_result"
    }
   ],
   "source": [
    "p_values"
   ]
  },
  {
   "cell_type": "code",
   "execution_count": 174,
   "metadata": {},
   "outputs": [],
   "source": [
    "p_values_selected = p_values[p_values<0.05] # 0.05 is selected for null hypothesis we can also select 0.01, 0.03 if needed"
   ]
  },
  {
   "cell_type": "code",
   "execution_count": 173,
   "metadata": {},
   "outputs": [
    {
     "data": {
      "text/plain": [
       "CHAS       3.337008e-04\n",
       "DIS        9.084036e-09\n",
       "B          2.183865e-13\n",
       "ZN         8.534560e-18\n",
       "CRIM       6.562503e-18\n",
       "AGE        4.201763e-18\n",
       "RAD        3.666735e-19\n",
       "NOX        1.672945e-22\n",
       "TAX        2.940140e-28\n",
       "INDUS      5.276470e-30\n",
       "PTRATIO    3.071272e-35\n",
       "RM         5.643408e-62\n",
       "LSTAT      6.885110e-76\n",
       "dtype: float64"
      ]
     },
     "execution_count": 173,
     "metadata": {},
     "output_type": "execute_result"
    }
   ],
   "source": [
    "p_values_selected"
   ]
  },
  {
   "cell_type": "code",
   "execution_count": 168,
   "metadata": {},
   "outputs": [],
   "source": [
    "X_train_f_r = bX_train[p_values_selected.index] \n",
    "X_test_f_r = bX_test[p_values_selected.index] "
   ]
  },
  {
   "cell_type": "code",
   "execution_count": 170,
   "metadata": {},
   "outputs": [
    {
     "data": {
      "text/html": [
       "<div>\n",
       "<style scoped>\n",
       "    .dataframe tbody tr th:only-of-type {\n",
       "        vertical-align: middle;\n",
       "    }\n",
       "\n",
       "    .dataframe tbody tr th {\n",
       "        vertical-align: top;\n",
       "    }\n",
       "\n",
       "    .dataframe thead th {\n",
       "        text-align: right;\n",
       "    }\n",
       "</style>\n",
       "<table border=\"1\" class=\"dataframe\">\n",
       "  <thead>\n",
       "    <tr style=\"text-align: right;\">\n",
       "      <th></th>\n",
       "      <th>CHAS</th>\n",
       "      <th>DIS</th>\n",
       "      <th>B</th>\n",
       "      <th>ZN</th>\n",
       "      <th>CRIM</th>\n",
       "      <th>AGE</th>\n",
       "      <th>RAD</th>\n",
       "      <th>NOX</th>\n",
       "      <th>TAX</th>\n",
       "      <th>INDUS</th>\n",
       "      <th>PTRATIO</th>\n",
       "      <th>RM</th>\n",
       "      <th>LSTAT</th>\n",
       "    </tr>\n",
       "  </thead>\n",
       "  <tbody>\n",
       "    <tr>\n",
       "      <th>220</th>\n",
       "      <td>1.0</td>\n",
       "      <td>2.8617</td>\n",
       "      <td>391.70</td>\n",
       "      <td>0.0</td>\n",
       "      <td>0.35809</td>\n",
       "      <td>88.5</td>\n",
       "      <td>8.0</td>\n",
       "      <td>0.507</td>\n",
       "      <td>307.0</td>\n",
       "      <td>6.20</td>\n",
       "      <td>17.4</td>\n",
       "      <td>6.951</td>\n",
       "      <td>9.71</td>\n",
       "    </tr>\n",
       "    <tr>\n",
       "      <th>71</th>\n",
       "      <td>0.0</td>\n",
       "      <td>5.2873</td>\n",
       "      <td>376.94</td>\n",
       "      <td>0.0</td>\n",
       "      <td>0.15876</td>\n",
       "      <td>17.5</td>\n",
       "      <td>4.0</td>\n",
       "      <td>0.413</td>\n",
       "      <td>305.0</td>\n",
       "      <td>10.81</td>\n",
       "      <td>19.2</td>\n",
       "      <td>5.961</td>\n",
       "      <td>9.88</td>\n",
       "    </tr>\n",
       "    <tr>\n",
       "      <th>240</th>\n",
       "      <td>0.0</td>\n",
       "      <td>6.3361</td>\n",
       "      <td>391.25</td>\n",
       "      <td>30.0</td>\n",
       "      <td>0.11329</td>\n",
       "      <td>54.3</td>\n",
       "      <td>6.0</td>\n",
       "      <td>0.428</td>\n",
       "      <td>300.0</td>\n",
       "      <td>4.93</td>\n",
       "      <td>16.6</td>\n",
       "      <td>6.897</td>\n",
       "      <td>11.38</td>\n",
       "    </tr>\n",
       "    <tr>\n",
       "      <th>6</th>\n",
       "      <td>0.0</td>\n",
       "      <td>5.5605</td>\n",
       "      <td>395.60</td>\n",
       "      <td>12.5</td>\n",
       "      <td>0.08829</td>\n",
       "      <td>66.6</td>\n",
       "      <td>5.0</td>\n",
       "      <td>0.524</td>\n",
       "      <td>311.0</td>\n",
       "      <td>7.87</td>\n",
       "      <td>15.2</td>\n",
       "      <td>6.012</td>\n",
       "      <td>12.43</td>\n",
       "    </tr>\n",
       "    <tr>\n",
       "      <th>417</th>\n",
       "      <td>0.0</td>\n",
       "      <td>1.6475</td>\n",
       "      <td>127.36</td>\n",
       "      <td>0.0</td>\n",
       "      <td>25.94060</td>\n",
       "      <td>89.1</td>\n",
       "      <td>24.0</td>\n",
       "      <td>0.679</td>\n",
       "      <td>666.0</td>\n",
       "      <td>18.10</td>\n",
       "      <td>20.2</td>\n",
       "      <td>5.304</td>\n",
       "      <td>26.64</td>\n",
       "    </tr>\n",
       "    <tr>\n",
       "      <th>...</th>\n",
       "      <td>...</td>\n",
       "      <td>...</td>\n",
       "      <td>...</td>\n",
       "      <td>...</td>\n",
       "      <td>...</td>\n",
       "      <td>...</td>\n",
       "      <td>...</td>\n",
       "      <td>...</td>\n",
       "      <td>...</td>\n",
       "      <td>...</td>\n",
       "      <td>...</td>\n",
       "      <td>...</td>\n",
       "      <td>...</td>\n",
       "    </tr>\n",
       "    <tr>\n",
       "      <th>323</th>\n",
       "      <td>0.0</td>\n",
       "      <td>4.7211</td>\n",
       "      <td>391.13</td>\n",
       "      <td>0.0</td>\n",
       "      <td>0.28392</td>\n",
       "      <td>74.3</td>\n",
       "      <td>5.0</td>\n",
       "      <td>0.493</td>\n",
       "      <td>287.0</td>\n",
       "      <td>7.38</td>\n",
       "      <td>19.6</td>\n",
       "      <td>5.708</td>\n",
       "      <td>11.74</td>\n",
       "    </tr>\n",
       "    <tr>\n",
       "      <th>192</th>\n",
       "      <td>0.0</td>\n",
       "      <td>6.4798</td>\n",
       "      <td>390.49</td>\n",
       "      <td>45.0</td>\n",
       "      <td>0.08664</td>\n",
       "      <td>26.3</td>\n",
       "      <td>5.0</td>\n",
       "      <td>0.437</td>\n",
       "      <td>398.0</td>\n",
       "      <td>3.44</td>\n",
       "      <td>15.2</td>\n",
       "      <td>7.178</td>\n",
       "      <td>2.87</td>\n",
       "    </tr>\n",
       "    <tr>\n",
       "      <th>117</th>\n",
       "      <td>0.0</td>\n",
       "      <td>2.7474</td>\n",
       "      <td>394.51</td>\n",
       "      <td>0.0</td>\n",
       "      <td>0.15098</td>\n",
       "      <td>82.6</td>\n",
       "      <td>6.0</td>\n",
       "      <td>0.547</td>\n",
       "      <td>432.0</td>\n",
       "      <td>10.01</td>\n",
       "      <td>17.8</td>\n",
       "      <td>6.021</td>\n",
       "      <td>10.30</td>\n",
       "    </tr>\n",
       "    <tr>\n",
       "      <th>47</th>\n",
       "      <td>0.0</td>\n",
       "      <td>5.6894</td>\n",
       "      <td>392.74</td>\n",
       "      <td>0.0</td>\n",
       "      <td>0.22927</td>\n",
       "      <td>85.5</td>\n",
       "      <td>3.0</td>\n",
       "      <td>0.448</td>\n",
       "      <td>233.0</td>\n",
       "      <td>6.91</td>\n",
       "      <td>17.9</td>\n",
       "      <td>6.030</td>\n",
       "      <td>18.80</td>\n",
       "    </tr>\n",
       "    <tr>\n",
       "      <th>172</th>\n",
       "      <td>0.0</td>\n",
       "      <td>2.5961</td>\n",
       "      <td>396.90</td>\n",
       "      <td>0.0</td>\n",
       "      <td>0.13914</td>\n",
       "      <td>88.5</td>\n",
       "      <td>5.0</td>\n",
       "      <td>0.510</td>\n",
       "      <td>296.0</td>\n",
       "      <td>4.05</td>\n",
       "      <td>16.6</td>\n",
       "      <td>5.572</td>\n",
       "      <td>14.69</td>\n",
       "    </tr>\n",
       "  </tbody>\n",
       "</table>\n",
       "<p>404 rows × 13 columns</p>\n",
       "</div>"
      ],
      "text/plain": [
       "     CHAS     DIS       B    ZN      CRIM   AGE   RAD    NOX    TAX  INDUS  \\\n",
       "220   1.0  2.8617  391.70   0.0   0.35809  88.5   8.0  0.507  307.0   6.20   \n",
       "71    0.0  5.2873  376.94   0.0   0.15876  17.5   4.0  0.413  305.0  10.81   \n",
       "240   0.0  6.3361  391.25  30.0   0.11329  54.3   6.0  0.428  300.0   4.93   \n",
       "6     0.0  5.5605  395.60  12.5   0.08829  66.6   5.0  0.524  311.0   7.87   \n",
       "417   0.0  1.6475  127.36   0.0  25.94060  89.1  24.0  0.679  666.0  18.10   \n",
       "..    ...     ...     ...   ...       ...   ...   ...    ...    ...    ...   \n",
       "323   0.0  4.7211  391.13   0.0   0.28392  74.3   5.0  0.493  287.0   7.38   \n",
       "192   0.0  6.4798  390.49  45.0   0.08664  26.3   5.0  0.437  398.0   3.44   \n",
       "117   0.0  2.7474  394.51   0.0   0.15098  82.6   6.0  0.547  432.0  10.01   \n",
       "47    0.0  5.6894  392.74   0.0   0.22927  85.5   3.0  0.448  233.0   6.91   \n",
       "172   0.0  2.5961  396.90   0.0   0.13914  88.5   5.0  0.510  296.0   4.05   \n",
       "\n",
       "     PTRATIO     RM  LSTAT  \n",
       "220     17.4  6.951   9.71  \n",
       "71      19.2  5.961   9.88  \n",
       "240     16.6  6.897  11.38  \n",
       "6       15.2  6.012  12.43  \n",
       "417     20.2  5.304  26.64  \n",
       "..       ...    ...    ...  \n",
       "323     19.6  5.708  11.74  \n",
       "192     15.2  7.178   2.87  \n",
       "117     17.8  6.021  10.30  \n",
       "47      17.9  6.030  18.80  \n",
       "172     16.6  5.572  14.69  \n",
       "\n",
       "[404 rows x 13 columns]"
      ]
     },
     "execution_count": 170,
     "metadata": {},
     "output_type": "execute_result"
    }
   ],
   "source": [
    "X_train_f_r"
   ]
  },
  {
   "cell_type": "code",
   "execution_count": 175,
   "metadata": {},
   "outputs": [
    {
     "data": {
      "text/plain": [
       "33.44897999767659"
      ]
     },
     "execution_count": 175,
     "metadata": {},
     "output_type": "execute_result"
    }
   ],
   "source": [
    "# selected Feature model\n",
    "model = LinearRegression()\n",
    "model.fit(X_train_f_r, by_train)\n",
    "by_pred = model.predict(X_test_f_r)\n",
    "mean_squared_error(by_test, by_pred)"
   ]
  },
  {
   "cell_type": "code",
   "execution_count": 176,
   "metadata": {},
   "outputs": [
    {
     "data": {
      "text/plain": [
       "5.783509315085141"
      ]
     },
     "execution_count": 176,
     "metadata": {},
     "output_type": "execute_result"
    }
   ],
   "source": [
    "np.sqrt(mean_squared_error(by_test, by_pred)) # no effect of F_test here."
   ]
  },
  {
   "cell_type": "markdown",
   "metadata": {},
   "source": [
    "#### ___7. Feature Selection using Fisher's Score and Chi2___"
   ]
  },
  {
   "attachments": {
    "image.png": {
     "image/png": "[encoded data removed]"
    }
   },
   "cell_type": "markdown",
   "metadata": {},
   "source": [
    "_A chi-square test is used in statistics to test the independence of two events. Given the data of two variables, we can get observed count O and expected count E. Chi-Square measures how expected count E and observed count O deviates each other._\n",
    "\n",
    "![image.png](attachment:image.png)\n",
    "\n",
    "_Let’s consider a scenario where we need to determine the relationship between the independent category feature (predictor) and dependent category feature(response). In feature selection, we aim to select the features which are highly dependent on the response._\n",
    "\n",
    "_When two features are independent, the observed count is close to the expected count, thus we will have smaller Chi-Square value. So high Chi-Square value indicates that the hypothesis of independence is incorrect. In simple words, higher the Chi-Square value the feature is more dependent on the response and it can be selected for model training._\n",
    "\n",
    "_https://www.youtube.com/watch?v=LE3AIyY_cn8_"
   ]
  },
  {
   "cell_type": "code",
   "execution_count": 193,
   "metadata": {},
   "outputs": [],
   "source": [
    "from sklearn.feature_selection import chi2\n",
    "import warnings\n",
    "warnings.filterwarnings('ignore')"
   ]
  },
  {
   "cell_type": "code",
   "execution_count": 194,
   "metadata": {},
   "outputs": [],
   "source": [
    "titanic = sns.load_dataset('titanic')"
   ]
  },
  {
   "cell_type": "code",
   "execution_count": 195,
   "metadata": {},
   "outputs": [
    {
     "data": {
      "text/html": [
       "<div>\n",
       "<style scoped>\n",
       "    .dataframe tbody tr th:only-of-type {\n",
       "        vertical-align: middle;\n",
       "    }\n",
       "\n",
       "    .dataframe tbody tr th {\n",
       "        vertical-align: top;\n",
       "    }\n",
       "\n",
       "    .dataframe thead th {\n",
       "        text-align: right;\n",
       "    }\n",
       "</style>\n",
       "<table border=\"1\" class=\"dataframe\">\n",
       "  <thead>\n",
       "    <tr style=\"text-align: right;\">\n",
       "      <th></th>\n",
       "      <th>survived</th>\n",
       "      <th>pclass</th>\n",
       "      <th>sex</th>\n",
       "      <th>age</th>\n",
       "      <th>sibsp</th>\n",
       "      <th>parch</th>\n",
       "      <th>fare</th>\n",
       "      <th>embarked</th>\n",
       "      <th>class</th>\n",
       "      <th>who</th>\n",
       "      <th>adult_male</th>\n",
       "      <th>deck</th>\n",
       "      <th>embark_town</th>\n",
       "      <th>alive</th>\n",
       "      <th>alone</th>\n",
       "    </tr>\n",
       "  </thead>\n",
       "  <tbody>\n",
       "    <tr>\n",
       "      <th>0</th>\n",
       "      <td>0</td>\n",
       "      <td>3</td>\n",
       "      <td>male</td>\n",
       "      <td>22.0</td>\n",
       "      <td>1</td>\n",
       "      <td>0</td>\n",
       "      <td>7.2500</td>\n",
       "      <td>S</td>\n",
       "      <td>Third</td>\n",
       "      <td>man</td>\n",
       "      <td>True</td>\n",
       "      <td>NaN</td>\n",
       "      <td>Southampton</td>\n",
       "      <td>no</td>\n",
       "      <td>False</td>\n",
       "    </tr>\n",
       "    <tr>\n",
       "      <th>1</th>\n",
       "      <td>1</td>\n",
       "      <td>1</td>\n",
       "      <td>female</td>\n",
       "      <td>38.0</td>\n",
       "      <td>1</td>\n",
       "      <td>0</td>\n",
       "      <td>71.2833</td>\n",
       "      <td>C</td>\n",
       "      <td>First</td>\n",
       "      <td>woman</td>\n",
       "      <td>False</td>\n",
       "      <td>C</td>\n",
       "      <td>Cherbourg</td>\n",
       "      <td>yes</td>\n",
       "      <td>False</td>\n",
       "    </tr>\n",
       "    <tr>\n",
       "      <th>2</th>\n",
       "      <td>1</td>\n",
       "      <td>3</td>\n",
       "      <td>female</td>\n",
       "      <td>26.0</td>\n",
       "      <td>0</td>\n",
       "      <td>0</td>\n",
       "      <td>7.9250</td>\n",
       "      <td>S</td>\n",
       "      <td>Third</td>\n",
       "      <td>woman</td>\n",
       "      <td>False</td>\n",
       "      <td>NaN</td>\n",
       "      <td>Southampton</td>\n",
       "      <td>yes</td>\n",
       "      <td>True</td>\n",
       "    </tr>\n",
       "    <tr>\n",
       "      <th>3</th>\n",
       "      <td>1</td>\n",
       "      <td>1</td>\n",
       "      <td>female</td>\n",
       "      <td>35.0</td>\n",
       "      <td>1</td>\n",
       "      <td>0</td>\n",
       "      <td>53.1000</td>\n",
       "      <td>S</td>\n",
       "      <td>First</td>\n",
       "      <td>woman</td>\n",
       "      <td>False</td>\n",
       "      <td>C</td>\n",
       "      <td>Southampton</td>\n",
       "      <td>yes</td>\n",
       "      <td>False</td>\n",
       "    </tr>\n",
       "    <tr>\n",
       "      <th>4</th>\n",
       "      <td>0</td>\n",
       "      <td>3</td>\n",
       "      <td>male</td>\n",
       "      <td>35.0</td>\n",
       "      <td>0</td>\n",
       "      <td>0</td>\n",
       "      <td>8.0500</td>\n",
       "      <td>S</td>\n",
       "      <td>Third</td>\n",
       "      <td>man</td>\n",
       "      <td>True</td>\n",
       "      <td>NaN</td>\n",
       "      <td>Southampton</td>\n",
       "      <td>no</td>\n",
       "      <td>True</td>\n",
       "    </tr>\n",
       "  </tbody>\n",
       "</table>\n",
       "</div>"
      ],
      "text/plain": [
       "   survived  pclass     sex   age  sibsp  parch     fare embarked  class  \\\n",
       "0         0       3    male  22.0      1      0   7.2500        S  Third   \n",
       "1         1       1  female  38.0      1      0  71.2833        C  First   \n",
       "2         1       3  female  26.0      0      0   7.9250        S  Third   \n",
       "3         1       1  female  35.0      1      0  53.1000        S  First   \n",
       "4         0       3    male  35.0      0      0   8.0500        S  Third   \n",
       "\n",
       "     who  adult_male deck  embark_town alive  alone  \n",
       "0    man        True  NaN  Southampton    no  False  \n",
       "1  woman       False    C    Cherbourg   yes  False  \n",
       "2  woman       False  NaN  Southampton   yes   True  \n",
       "3  woman       False    C  Southampton   yes  False  \n",
       "4    man        True  NaN  Southampton    no   True  "
      ]
     },
     "execution_count": 195,
     "metadata": {},
     "output_type": "execute_result"
    }
   ],
   "source": [
    "titanic.head()"
   ]
  },
  {
   "cell_type": "code",
   "execution_count": 213,
   "metadata": {},
   "outputs": [],
   "source": [
    "# taking categorical variable\n",
    "\n",
    "data = titanic[['pclass','sex','sibsp','parch', 'embarked','who','alone','survived']]"
   ]
  },
  {
   "cell_type": "code",
   "execution_count": 214,
   "metadata": {},
   "outputs": [],
   "source": [
    "data.dropna(inplace = True)"
   ]
  },
  {
   "cell_type": "code",
   "execution_count": 215,
   "metadata": {},
   "outputs": [],
   "source": [
    "data_x = data[['pclass','sex','sibsp','parch', 'embarked','who','alone']]\n",
    "data_y = data['survived']"
   ]
  },
  {
   "cell_type": "code",
   "execution_count": 219,
   "metadata": {},
   "outputs": [],
   "source": [
    "sex = {'male':0, 'female':1}\n",
    "ports = {'S':0, 'C':1,'Q':2}\n",
    "who = {'man':0, 'woman':1,'child':2}\n",
    "alone = {True:0, False:1}\n",
    "\n",
    "data_x['sex'] = data_x['sex'].map(sex)\n",
    "data_x['embarked'] = data_x['embarked'].map(ports)\n",
    "data_x['who'] = data_x['who'].map(who)\n",
    "data_x['alone'] = data_x['alone'].map(alone)"
   ]
  },
  {
   "cell_type": "code",
   "execution_count": 222,
   "metadata": {},
   "outputs": [
    {
     "data": {
      "text/html": [
       "<div>\n",
       "<style scoped>\n",
       "    .dataframe tbody tr th:only-of-type {\n",
       "        vertical-align: middle;\n",
       "    }\n",
       "\n",
       "    .dataframe tbody tr th {\n",
       "        vertical-align: top;\n",
       "    }\n",
       "\n",
       "    .dataframe thead th {\n",
       "        text-align: right;\n",
       "    }\n",
       "</style>\n",
       "<table border=\"1\" class=\"dataframe\">\n",
       "  <thead>\n",
       "    <tr style=\"text-align: right;\">\n",
       "      <th></th>\n",
       "      <th>pclass</th>\n",
       "      <th>sex</th>\n",
       "      <th>sibsp</th>\n",
       "      <th>parch</th>\n",
       "      <th>embarked</th>\n",
       "      <th>who</th>\n",
       "      <th>alone</th>\n",
       "    </tr>\n",
       "  </thead>\n",
       "  <tbody>\n",
       "    <tr>\n",
       "      <th>0</th>\n",
       "      <td>3</td>\n",
       "      <td>0</td>\n",
       "      <td>1</td>\n",
       "      <td>0</td>\n",
       "      <td>0</td>\n",
       "      <td>0</td>\n",
       "      <td>1</td>\n",
       "    </tr>\n",
       "    <tr>\n",
       "      <th>1</th>\n",
       "      <td>1</td>\n",
       "      <td>1</td>\n",
       "      <td>1</td>\n",
       "      <td>0</td>\n",
       "      <td>1</td>\n",
       "      <td>1</td>\n",
       "      <td>1</td>\n",
       "    </tr>\n",
       "    <tr>\n",
       "      <th>2</th>\n",
       "      <td>3</td>\n",
       "      <td>1</td>\n",
       "      <td>0</td>\n",
       "      <td>0</td>\n",
       "      <td>0</td>\n",
       "      <td>1</td>\n",
       "      <td>0</td>\n",
       "    </tr>\n",
       "    <tr>\n",
       "      <th>3</th>\n",
       "      <td>1</td>\n",
       "      <td>1</td>\n",
       "      <td>1</td>\n",
       "      <td>0</td>\n",
       "      <td>0</td>\n",
       "      <td>1</td>\n",
       "      <td>1</td>\n",
       "    </tr>\n",
       "    <tr>\n",
       "      <th>4</th>\n",
       "      <td>3</td>\n",
       "      <td>0</td>\n",
       "      <td>0</td>\n",
       "      <td>0</td>\n",
       "      <td>0</td>\n",
       "      <td>0</td>\n",
       "      <td>0</td>\n",
       "    </tr>\n",
       "  </tbody>\n",
       "</table>\n",
       "</div>"
      ],
      "text/plain": [
       "   pclass  sex  sibsp  parch  embarked  who  alone\n",
       "0       3    0      1      0         0    0      1\n",
       "1       1    1      1      0         1    1      1\n",
       "2       3    1      0      0         0    1      0\n",
       "3       1    1      1      0         0    1      1\n",
       "4       3    0      0      0         0    0      0"
      ]
     },
     "execution_count": 222,
     "metadata": {},
     "output_type": "execute_result"
    }
   ],
   "source": [
    "data_x.head()"
   ]
  },
  {
   "cell_type": "code",
   "execution_count": 223,
   "metadata": {},
   "outputs": [],
   "source": [
    "tX_train, tX_test, ty_train, ty_test = train_test_split(data_x,data_y, test_size = 0.2, random_state = 0)"
   ]
  },
  {
   "cell_type": "code",
   "execution_count": 224,
   "metadata": {},
   "outputs": [],
   "source": [
    "f_score = chi2(tX_train, ty_train)"
   ]
  },
  {
   "cell_type": "code",
   "execution_count": 225,
   "metadata": {},
   "outputs": [
    {
     "data": {
      "text/plain": [
       "(array([ 22.65169202, 152.91534343,   0.52934285,  10.35663782,\n",
       "         16.13255653, 161.42431175,  20.32355172]),\n",
       " array([1.94189138e-06, 3.99737147e-35, 4.66883271e-01, 1.29009955e-03,\n",
       "        5.90599986e-05, 5.52664700e-37, 6.53907135e-06]))"
      ]
     },
     "execution_count": 225,
     "metadata": {},
     "output_type": "execute_result"
    }
   ],
   "source": [
    "f_score"
   ]
  },
  {
   "cell_type": "code",
   "execution_count": 226,
   "metadata": {},
   "outputs": [
    {
     "data": {
      "text/plain": [
       "<matplotlib.axes._subplots.AxesSubplot at 0x1ed5deba848>"
      ]
     },
     "execution_count": 226,
     "metadata": {},
     "output_type": "execute_result"
    },
    {
     "data": {
      "image/png": "[encoded data removed]",
      "text/plain": [
       "<Figure size 432x288 with 1 Axes>"
      ]
     },
     "metadata": {
      "needs_background": "light"
     },
     "output_type": "display_data"
    }
   ],
   "source": [
    "p_val = pd.Series(f_score[1], index = data_x.columns)\n",
    "p_val.plot.bar()"
   ]
  },
  {
   "cell_type": "code",
   "execution_count": 228,
   "metadata": {},
   "outputs": [
    {
     "data": {
      "text/plain": [
       "Index(['pclass', 'sex', 'parch', 'embarked', 'who', 'alone'], dtype='object')"
      ]
     },
     "execution_count": 228,
     "metadata": {},
     "output_type": "execute_result"
    }
   ],
   "source": [
    "p_val[p_val<0.05].index"
   ]
  },
  {
   "cell_type": "code",
   "execution_count": 229,
   "metadata": {},
   "outputs": [
    {
     "name": "stdout",
     "output_type": "stream",
     "text": [
      "Accuracy:  0.7359550561797753\n",
      "Wall time: 1.13 s\n"
     ]
    }
   ],
   "source": [
    "%time run_randomForest(tX_train[p_val[p_val<0.05].index], tX_test[p_val[p_val<0.05].index], ty_train, ty_test)"
   ]
  },
  {
   "cell_type": "markdown",
   "metadata": {},
   "source": [
    "### ___Multivariate Feature Selection___"
   ]
  },
  {
   "cell_type": "markdown",
   "metadata": {},
   "source": [
    "#### ___8. Correlated Feature Removal___"
   ]
  },
  {
   "cell_type": "markdown",
   "metadata": {},
   "source": [
    "_As the number of features increases in the linear space, the performance of the model decreases._\n",
    "\n",
    "_When there are more features in a dataset, 2 or more features can be correlated. Including all the correlated variables adversely affects the model performance (not in tree based models)._\n",
    "\n",
    "_So, it becomes important to remove such features and consider the most important feature from the correlated ones._\n",
    "\n",
    "_To calculate the correlated variables we use:_\n",
    "\n",
    "```\n",
    "Pearson Correlation: cov(x,y)/(std(x)*std(y))\n",
    "```"
   ]
  },
  {
   "attachments": {
    "image.png": {
     "image/png": "[encoded data removed]"
    }
   },
   "cell_type": "markdown",
   "metadata": {},
   "source": [
    "![image.png](attachment:image.png)"
   ]
  },
  {
   "cell_type": "markdown",
   "metadata": {},
   "source": [
    "_1. Feature to Target correlation is desired._\n",
    "\n",
    "_2. Feature to Feature correlation needs to be addressed._\n",
    "\n",
    "_3. Correlation increases model complexity._\n",
    "\n",
    "_4. If 2 variables are correlated, then either of them can be included in model._\n",
    "\n",
    "_5. Removing the redundant features improves model performance._\n"
   ]
  },
  {
   "cell_type": "code",
   "execution_count": 29,
   "metadata": {},
   "outputs": [],
   "source": [
    "corrmatrix = X_train_filter.corr()"
   ]
  },
  {
   "cell_type": "code",
   "execution_count": 30,
   "metadata": {
    "scrolled": false
   },
   "outputs": [
    {
     "data": {
      "image/png": "[encoded data removed]",
      "text/plain": [
       "<Figure size 1152x576 with 2 Axes>"
      ]
     },
     "metadata": {
      "needs_background": "light"
     },
     "output_type": "display_data"
    }
   ],
   "source": [
    "plt.figure(figsize = (16,8))\n",
    "sns.heatmap(corrmatrix)\n",
    "plt.show()"
   ]
  },
  {
   "cell_type": "code",
   "execution_count": 32,
   "metadata": {},
   "outputs": [],
   "source": [
    "corrmatrix_new = np.abs(corrmatrix)"
   ]
  },
  {
   "cell_type": "code",
   "execution_count": 35,
   "metadata": {},
   "outputs": [],
   "source": [
    "cor_variables = corrmatrix_new[(corrmatrix_new>0.85) & (corrmatrix_new<1)]"
   ]
  },
  {
   "cell_type": "code",
   "execution_count": 39,
   "metadata": {},
   "outputs": [],
   "source": [
    "def get_correlated_variables(cor_variables):\n",
    "    cor_variables_set = set()\n",
    "    for i in range(len(cor_variables.columns)):\n",
    "        for j in range(i):\n",
    "            if(pd.notnull(cor_variables.iloc[i,j])):\n",
    "               cor_variables_set.add(cor_variables.columns[i])\n",
    "    return cor_variables_set"
   ]
  },
  {
   "cell_type": "code",
   "execution_count": 41,
   "metadata": {},
   "outputs": [],
   "source": [
    "corr_features = get_correlated_variables(cor_variables)"
   ]
  },
  {
   "cell_type": "code",
   "execution_count": 42,
   "metadata": {},
   "outputs": [
    {
     "data": {
      "text/plain": [
       "129"
      ]
     },
     "execution_count": 42,
     "metadata": {},
     "output_type": "execute_result"
    }
   ],
   "source": [
    "len(corr_features)"
   ]
  },
  {
   "cell_type": "code",
   "execution_count": 46,
   "metadata": {},
   "outputs": [
    {
     "data": {
      "text/html": [
       "<div>\n",
       "<style scoped>\n",
       "    .dataframe tbody tr th:only-of-type {\n",
       "        vertical-align: middle;\n",
       "    }\n",
       "\n",
       "    .dataframe tbody tr th {\n",
       "        vertical-align: top;\n",
       "    }\n",
       "\n",
       "    .dataframe thead th {\n",
       "        text-align: right;\n",
       "    }\n",
       "</style>\n",
       "<table border=\"1\" class=\"dataframe\">\n",
       "  <thead>\n",
       "    <tr style=\"text-align: right;\">\n",
       "      <th></th>\n",
       "      <th>level_0</th>\n",
       "      <th>level_1</th>\n",
       "      <th>0</th>\n",
       "    </tr>\n",
       "  </thead>\n",
       "  <tbody>\n",
       "    <tr>\n",
       "      <th>0</th>\n",
       "      <td>4</td>\n",
       "      <td>5</td>\n",
       "      <td>0.887059</td>\n",
       "    </tr>\n",
       "    <tr>\n",
       "      <th>1</th>\n",
       "      <td>4</td>\n",
       "      <td>11</td>\n",
       "      <td>0.965907</td>\n",
       "    </tr>\n",
       "    <tr>\n",
       "      <th>2</th>\n",
       "      <td>4</td>\n",
       "      <td>12</td>\n",
       "      <td>0.857453</td>\n",
       "    </tr>\n",
       "    <tr>\n",
       "      <th>3</th>\n",
       "      <td>5</td>\n",
       "      <td>4</td>\n",
       "      <td>0.887059</td>\n",
       "    </tr>\n",
       "    <tr>\n",
       "      <th>4</th>\n",
       "      <td>5</td>\n",
       "      <td>11</td>\n",
       "      <td>0.854661</td>\n",
       "    </tr>\n",
       "    <tr>\n",
       "      <th>...</th>\n",
       "      <td>...</td>\n",
       "      <td>...</td>\n",
       "      <td>...</td>\n",
       "    </tr>\n",
       "    <tr>\n",
       "      <th>583</th>\n",
       "      <td>268</td>\n",
       "      <td>267</td>\n",
       "      <td>0.992676</td>\n",
       "    </tr>\n",
       "    <tr>\n",
       "      <th>584</th>\n",
       "      <td>271</td>\n",
       "      <td>133</td>\n",
       "      <td>0.905024</td>\n",
       "    </tr>\n",
       "    <tr>\n",
       "      <th>585</th>\n",
       "      <td>271</td>\n",
       "      <td>272</td>\n",
       "      <td>0.970078</td>\n",
       "    </tr>\n",
       "    <tr>\n",
       "      <th>586</th>\n",
       "      <td>272</td>\n",
       "      <td>133</td>\n",
       "      <td>0.917656</td>\n",
       "    </tr>\n",
       "    <tr>\n",
       "      <th>587</th>\n",
       "      <td>272</td>\n",
       "      <td>271</td>\n",
       "      <td>0.970078</td>\n",
       "    </tr>\n",
       "  </tbody>\n",
       "</table>\n",
       "<p>588 rows × 3 columns</p>\n",
       "</div>"
      ],
      "text/plain": [
       "     level_0  level_1         0\n",
       "0          4        5  0.887059\n",
       "1          4       11  0.965907\n",
       "2          4       12  0.857453\n",
       "3          5        4  0.887059\n",
       "4          5       11  0.854661\n",
       "..       ...      ...       ...\n",
       "583      268      267  0.992676\n",
       "584      271      133  0.905024\n",
       "585      271      272  0.970078\n",
       "586      272      133  0.917656\n",
       "587      272      271  0.970078\n",
       "\n",
       "[588 rows x 3 columns]"
      ]
     },
     "execution_count": 46,
     "metadata": {},
     "output_type": "execute_result"
    }
   ],
   "source": [
    "corr_feat = cor_variables.stack().reset_index()\n",
    "corr_feat"
   ]
  },
  {
   "cell_type": "code",
   "execution_count": 47,
   "metadata": {},
   "outputs": [],
   "source": [
    "corr_feat.columns = ['Feature1','Feature2', 'Correlation']"
   ]
  },
  {
   "cell_type": "code",
   "execution_count": 49,
   "metadata": {},
   "outputs": [],
   "source": [
    "grouped_list = []\n",
    "correlated_feature_list = []\n",
    "for features in corr_feat.Feature1.unique():\n",
    "    if features not in grouped_list:\n",
    "        cor = corr_feat[corr_feat.Feature1 == features]\n",
    "        grouped_list = grouped_list + list(cor.Feature2.unique()) + [features]\n",
    "        correlated_feature_list.append(cor)"
   ]
  },
  {
   "cell_type": "code",
   "execution_count": 50,
   "metadata": {},
   "outputs": [
    {
     "data": {
      "text/plain": [
       "[   Feature1  Feature2  Correlation\n",
       " 0         4         5     0.887059\n",
       " 1         4        11     0.965907\n",
       " 2         4        12     0.857453,\n",
       "    Feature1  Feature2  Correlation\n",
       " 6         6         7     0.863212,\n",
       "    Feature1  Feature2  Correlation\n",
       " 8         8         9     0.875337\n",
       " 9         8       217     0.861562,\n",
       "     Feature1  Feature2  Correlation\n",
       " 12        10       131     0.886045,\n",
       "     Feature1  Feature2  Correlation\n",
       " 19        13        15     0.890003\n",
       " 20        13        16     0.998244\n",
       " 21        13        18     0.882374,\n",
       "     Feature1  Feature2  Correlation\n",
       " 22        14        17      0.99926,\n",
       "     Feature1  Feature2  Correlation\n",
       " 33        20        47     0.997792\n",
       " 34        20        49     0.998546\n",
       " 35        20       100     0.997060,\n",
       "     Feature1  Feature2  Correlation\n",
       " 36        21        23     0.861805\n",
       " 37        21        52     0.921399\n",
       " 38        21        54     0.861587,\n",
       "     Feature1  Feature2  Correlation\n",
       " 39        22        53     0.993612\n",
       " 40        22       207     0.908888,\n",
       "     Feature1  Feature2  Correlation\n",
       " 46        24        23     0.932170\n",
       " 47        24        54     0.931998\n",
       " 48        24       208     0.918153,\n",
       "     Feature1  Feature2  Correlation\n",
       " 49        25        56     0.861351,\n",
       "     Feature1  Feature2  Correlation\n",
       " 50        26        34     0.858026\n",
       " 51        26        35     0.910235\n",
       " 52        26        57     0.992123\n",
       " 53        26        70     0.856715\n",
       " 54        26        71     0.909618\n",
       " 55        26       209     0.951193,\n",
       "     Feature1  Feature2  Correlation\n",
       " 56        27        28     0.901246\n",
       " 57        27        29     0.886566\n",
       " 58        27        32     0.987361\n",
       " 59        27        58     0.954793\n",
       " 60        27        59     0.895253\n",
       " 61        27        60     0.886202\n",
       " 62        27        63     0.954257\n",
       " 63        27       210     0.866423,\n",
       "     Feature1  Feature2  Correlation\n",
       " 76        30        31     0.991911\n",
       " 77        30        61     0.905947\n",
       " 78        30        62     0.908618,\n",
       "      Feature1  Feature2  Correlation\n",
       " 101        36        37     0.924091\n",
       " 102        36        38     0.977742\n",
       " 103        36        39     0.924091\n",
       " 104        36        40     0.945653\n",
       " 105        36        41     0.945653\n",
       " 106        36        74     0.874121\n",
       " 107        36        75     0.874121,\n",
       "      Feature1  Feature2  Correlation\n",
       " 149        42        89     0.874545\n",
       " 150        42       105     0.893937\n",
       " 151        42       207     0.868559,\n",
       "      Feature1  Feature2  Correlation\n",
       " 152        43        44     0.945711\n",
       " 153        43        45     0.945711\n",
       " 154        43       187     0.875207\n",
       " 155        43       188     0.851146,\n",
       "      Feature1  Feature2  Correlation\n",
       " 162        46        48     0.989378\n",
       " 163        46        99     0.877271\n",
       " 164        46       102     0.892829,\n",
       "      Feature1  Feature2  Correlation\n",
       " 174        50       101     0.990676\n",
       " 175        50       103     0.990676,\n",
       "      Feature1  Feature2  Correlation\n",
       " 176        51        95     0.982656,\n",
       "      Feature1  Feature2  Correlation\n",
       " 185        55        23     0.932170\n",
       " 186        55        54     0.931998\n",
       " 187        55       208     0.918153,\n",
       "      Feature1  Feature2  Correlation\n",
       " 220        66        67     0.935074\n",
       " 221        66        90     0.892195,\n",
       "      Feature1  Feature2  Correlation\n",
       " 224        68        69     0.857153,\n",
       "      Feature1  Feature2  Correlation\n",
       " 237        72        37     0.922744\n",
       " 238        72        38     0.872964\n",
       " 239        72        39     0.922744\n",
       " 240        72        40     0.896092\n",
       " 241        72        41     0.896092\n",
       " 242        72        74     0.968968\n",
       " 243        72        75     0.968968,\n",
       "      Feature1  Feature2  Correlation\n",
       " 244        73        37     0.922744\n",
       " 245        73        38     0.872964\n",
       " 246        73        39     0.922744\n",
       " 247        73        40     0.896092\n",
       " 248        73        41     0.896092\n",
       " 249        73        74     0.968968\n",
       " 250        73        75     0.968968,\n",
       "      Feature1  Feature2  Correlation\n",
       " 267        76        79     0.862321,\n",
       "      Feature1  Feature2  Correlation\n",
       " 268        78        79     0.952092,\n",
       "      Feature1  Feature2  Correlation\n",
       " 271        80        83     0.869577\n",
       " 272        80        84     0.991918\n",
       " 273        80        87     0.859775,\n",
       "      Feature1  Feature2  Correlation\n",
       " 274        81        85     0.986429,\n",
       "      Feature1  Feature2  Correlation\n",
       " 275        82        83     0.934797\n",
       " 276        82        86     0.986913\n",
       " 277        82        87     0.924315\n",
       " 278        82       213     0.915862\n",
       " 279        82       219     0.938928\n",
       " 280        82       220     0.854345,\n",
       "      Feature1  Feature2  Correlation\n",
       " 312        91        67     0.878210\n",
       " 313        91        90     0.938005,\n",
       "      Feature1  Feature2  Correlation\n",
       " 315        96        97     0.924383\n",
       " 316        96        98     0.924383,\n",
       "      Feature1  Feature2  Correlation\n",
       " 330       104        56      0.90939,\n",
       "      Feature1  Feature2  Correlation\n",
       " 333       106       107     0.953021,\n",
       "      Feature1  Feature2  Correlation\n",
       " 335       108       119     0.999877\n",
       " 336       108       161     0.999700,\n",
       "      Feature1  Feature2  Correlation\n",
       " 337       110       263     0.952104\n",
       " 338       110       264     0.992844,\n",
       "      Feature1  Feature2  Correlation\n",
       " 339       111       240     0.924174\n",
       " 340       111       241     0.850602,\n",
       "      Feature1  Feature2  Correlation\n",
       " 341       112       121     0.996246\n",
       " 342       112       132     0.978699\n",
       " 343       112       242     0.879065\n",
       " 344       112       244     0.987292\n",
       " 345       112       245     0.973590,\n",
       "      Feature1  Feature2  Correlation\n",
       " 346       113       246     0.896012\n",
       " 347       113       248     0.987535\n",
       " 348       113       249     0.979461,\n",
       "      Feature1  Feature2  Correlation\n",
       " 349       115       254          1.0\n",
       " 350       115       256          1.0,\n",
       "      Feature1  Feature2  Correlation\n",
       " 351       118       126     0.975848\n",
       " 352       118       165     0.984577\n",
       " 353       118       257     0.988709\n",
       " 354       118       258     0.981295\n",
       " 355       118       259     0.998231\n",
       " 356       118       260     0.998251,\n",
       "      Feature1  Feature2  Correlation\n",
       " 364       122       123     0.982949,\n",
       "      Feature1  Feature2  Correlation\n",
       " 366       124       263     0.952104\n",
       " 367       124       264     0.992844,\n",
       "      Feature1  Feature2  Correlation\n",
       " 374       128       265     0.865040\n",
       " 375       128       267     0.998331\n",
       " 376       128       268     0.991068,\n",
       "      Feature1  Feature2  Correlation\n",
       " 377       129       136     0.924676\n",
       " 378       129       162     0.989083,\n",
       "      Feature1  Feature2  Correlation\n",
       " 385       133       271     0.905024\n",
       " 386       133       272     0.917656,\n",
       "      Feature1  Feature2  Correlation\n",
       " 389       137       149          1.0,\n",
       "      Feature1  Feature2  Correlation\n",
       " 390       140       152          1.0,\n",
       "      Feature1  Feature2  Correlation\n",
       " 391       143       175          1.0,\n",
       "      Feature1  Feature2  Correlation\n",
       " 392       147       183          1.0,\n",
       "      Feature1  Feature2  Correlation\n",
       " 393       148       160          1.0,\n",
       "      Feature1  Feature2  Correlation\n",
       " 396       155       175          1.0,\n",
       "      Feature1  Feature2  Correlation\n",
       " 397       159       183          1.0,\n",
       "      Feature1  Feature2  Correlation\n",
       " 409       172       185     0.982226,\n",
       "      Feature1  Feature2  Correlation\n",
       " 415       186        44     0.890037\n",
       " 416       186        45     0.890037\n",
       " 417       186       187     0.929953\n",
       " 418       186       188     0.904386\n",
       " 419       186       189     0.966820,\n",
       "      Feature1  Feature2  Correlation\n",
       " 433       204       205     0.947847,\n",
       "      Feature1  Feature2  Correlation\n",
       " 435       206       230     0.907901\n",
       " 436       206       232     0.871994\n",
       " 437       206       233     0.997786,\n",
       "      Feature1  Feature2  Correlation\n",
       " 462       214        83     0.881441\n",
       " 463       214        87     0.898078\n",
       " 464       214       213     0.918276\n",
       " 465       214       219     0.885176\n",
       " 466       214       220     0.961999,\n",
       "      Feature1  Feature2  Correlation\n",
       " 467       215       216     0.905499,\n",
       "      Feature1  Feature2  Correlation\n",
       " 471       218         9     0.872932\n",
       " 472       218       217     0.850287,\n",
       "      Feature1  Feature2  Correlation\n",
       " 486       221       222     0.901647\n",
       " 487       221       223     0.998859\n",
       " 488       221       224     0.901191,\n",
       "      Feature1  Feature2  Correlation\n",
       " 533       250       252     0.912384\n",
       " 534       250       253     0.930622,\n",
       "      Feature1  Feature2  Correlation\n",
       " 541       255       254          1.0\n",
       " 542       255       256          1.0]"
      ]
     },
     "execution_count": 50,
     "metadata": {},
     "output_type": "execute_result"
    }
   ],
   "source": [
    "correlated_feature_list"
   ]
  },
  {
   "cell_type": "code",
   "execution_count": 52,
   "metadata": {},
   "outputs": [
    {
     "data": {
      "text/plain": [
       "63"
      ]
     },
     "execution_count": 52,
     "metadata": {},
     "output_type": "execute_result"
    }
   ],
   "source": [
    "len(correlated_feature_list)"
   ]
  },
  {
   "cell_type": "code",
   "execution_count": 53,
   "metadata": {},
   "outputs": [
    {
     "data": {
      "text/plain": [
       "((60816, 274), (15204, 274))"
      ]
     },
     "execution_count": 53,
     "metadata": {},
     "output_type": "execute_result"
    }
   ],
   "source": [
    "X_train_filter.shape, X_test_filter.shape"
   ]
  },
  {
   "cell_type": "markdown",
   "metadata": {},
   "source": [
    "_Now we can include one feature from each group based on feature importance using Random Forest Classfier._"
   ]
  },
  {
   "cell_type": "code",
   "execution_count": 61,
   "metadata": {},
   "outputs": [],
   "source": [
    "important_feat = []\n",
    "for group in correlated_feature_list:\n",
    "    features = list(group.Feature1) + list(group.Feature2)\n",
    "    clf = RandomForestClassifier(random_state=0, n_estimators=100, n_jobs=-1)\n",
    "    clf.fit(X_train_filter[features], y_train)\n",
    "    \n",
    "    important_Feature = pd.concat([pd.Series(features), pd.Series(clf.feature_importances_)],axis = 1)\n",
    "    important_Feature.columns = ['Feature', 'Importance']\n",
    "    important_Feature.sort_values('Importance', ascending = False)\n",
    "    Feature = important_Feature.iloc[0,0]\n",
    "    important_feat.append(Feature)"
   ]
  },
  {
   "cell_type": "code",
   "execution_count": 65,
   "metadata": {},
   "outputs": [],
   "source": [
    "corr_feature_remove = set(corr_features) - set(important_feat)"
   ]
  },
  {
   "cell_type": "code",
   "execution_count": 69,
   "metadata": {},
   "outputs": [],
   "source": [
    "X_train_filter_uncorr = X_train_filter.drop(columns = corr_feature_remove)\n",
    "X_test_filter_uncorr = X_test_filter.drop(columns = corr_feature_remove)"
   ]
  },
  {
   "cell_type": "markdown",
   "metadata": {},
   "source": [
    "#### ___Lets do the another comparison___"
   ]
  },
  {
   "cell_type": "code",
   "execution_count": 70,
   "metadata": {},
   "outputs": [
    {
     "name": "stdout",
     "output_type": "stream",
     "text": [
      "Accuracy:  0.9575769534333071\n",
      "Wall time: 20.6 s\n"
     ]
    }
   ],
   "source": [
    "# model without filtered data\n",
    "%time run_randomForest(X_train, X_test, y_train, y_test)"
   ]
  },
  {
   "cell_type": "code",
   "execution_count": 71,
   "metadata": {},
   "outputs": [
    {
     "name": "stdout",
     "output_type": "stream",
     "text": [
      "Accuracy:  0.9583004472507235\n",
      "Wall time: 14.6 s\n"
     ]
    }
   ],
   "source": [
    "# model without filtered data\n",
    "%time run_randomForest(X_train_filter_uncorr, X_test_filter_uncorr, y_train, y_test)"
   ]
  }
 ],
 "metadata": {
  "kernelspec": {
   "display_name": "Python 3",
   "language": "python",
   "name": "python3"
  },
  "language_info": {
   "codemirror_mode": {
    "name": "ipython",
    "version": 3
   },
   "file_extension": ".py",
   "mimetype": "text/x-python",
   "name": "python",
   "nbconvert_exporter": "python",
   "pygments_lexer": "ipython3",
   "version": "3.7.6"
  }
 },
 "nbformat": 4,
 "nbformat_minor": 4
}
