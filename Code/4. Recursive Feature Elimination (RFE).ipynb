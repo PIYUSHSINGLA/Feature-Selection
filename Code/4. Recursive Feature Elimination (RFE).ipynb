{
 "cells": [
  {
   "cell_type": "markdown",
   "metadata": {},
   "source": [
    "## ___Recursive Feature Elimination (RFE)___"
   ]
  },
  {
   "cell_type": "markdown",
   "metadata": {},
   "source": [
    "_Recursive feature elimination (RFE) is a feature selection method that fits a model and removes the weakest feature (or features) until the specified number of features is reached. Features are ranked by the model’s coefficients or feature importances attributes, and by recursively eliminating a small number of features per loop, RFE attempts to eliminate dependencies and collinearity that may exist in the model._\n",
    "\n",
    "_RFE requires a specified number of features to keep, however it is often not known in advance how many features are valid. To find the optimal number of features cross-validation is used with RFE to score different feature subsets and select the best scoring collection of features._\n",
    "\n",
    "_Scikit Learn does most of the heavy lifting just import RFE from sklearn.feature_selection and pass any classifier model to the RFE() method with the number of features to select. Using familiar Scikit Learn syntax, the .fit() method must then be called._"
   ]
  },
  {
   "cell_type": "code",
   "execution_count": 1,
   "metadata": {},
   "outputs": [],
   "source": [
    "# importing libraries\n",
    "\n",
    "import numpy as np\n",
    "import pandas as pd\n",
    "import matplotlib.pyplot as plt\n",
    "%matplotlib inline\n",
    "import seaborn as sns\n",
    "import warnings\n",
    "warnings.filterwarnings('ignore')"
   ]
  },
  {
   "cell_type": "code",
   "execution_count": 5,
   "metadata": {},
   "outputs": [],
   "source": [
    "from sklearn.model_selection import train_test_split\n",
    "from sklearn.ensemble import RandomForestClassifier\n",
    "from sklearn.feature_selection import SelectFromModel\n",
    "from sklearn.metrics import accuracy_score, roc_auc_score\n",
    "from sklearn.datasets import load_breast_cancer"
   ]
  },
  {
   "cell_type": "code",
   "execution_count": 6,
   "metadata": {},
   "outputs": [],
   "source": [
    "data = load_breast_cancer()"
   ]
  },
  {
   "cell_type": "code",
   "execution_count": 7,
   "metadata": {},
   "outputs": [],
   "source": [
    "X = pd.DataFrame(data.data, columns = data.feature_names)\n",
    "y = data.target"
   ]
  },
  {
   "cell_type": "code",
   "execution_count": 8,
   "metadata": {},
   "outputs": [],
   "source": [
    "X_train, X_test, y_train, y_test = train_test_split(X,y, test_size = 0.2, random_state = 0)"
   ]
  },
  {
   "cell_type": "markdown",
   "metadata": {},
   "source": [
    "### ___Feature Importance using Random Forest___"
   ]
  },
  {
   "cell_type": "code",
   "execution_count": 9,
   "metadata": {},
   "outputs": [
    {
     "data": {
      "text/plain": [
       "array([ True, False,  True,  True, False, False,  True,  True, False,\n",
       "       False, False, False, False,  True, False, False, False, False,\n",
       "       False, False,  True, False,  True,  True, False, False, False,\n",
       "        True, False, False])"
      ]
     },
     "execution_count": 9,
     "metadata": {},
     "output_type": "execute_result"
    }
   ],
   "source": [
    "selection = SelectFromModel(RandomForestClassifier(random_state=0, n_estimators=100, n_jobs=-1))\n",
    "selection.fit(X_train, y_train)\n",
    "selection.get_support()"
   ]
  },
  {
   "cell_type": "code",
   "execution_count": 10,
   "metadata": {},
   "outputs": [
    {
     "data": {
      "text/plain": [
       "Index(['mean radius', 'mean texture', 'mean perimeter', 'mean area',\n",
       "       'mean smoothness', 'mean compactness', 'mean concavity',\n",
       "       'mean concave points', 'mean symmetry', 'mean fractal dimension',\n",
       "       'radius error', 'texture error', 'perimeter error', 'area error',\n",
       "       'smoothness error', 'compactness error', 'concavity error',\n",
       "       'concave points error', 'symmetry error', 'fractal dimension error',\n",
       "       'worst radius', 'worst texture', 'worst perimeter', 'worst area',\n",
       "       'worst smoothness', 'worst compactness', 'worst concavity',\n",
       "       'worst concave points', 'worst symmetry', 'worst fractal dimension'],\n",
       "      dtype='object')"
      ]
     },
     "execution_count": 10,
     "metadata": {},
     "output_type": "execute_result"
    }
   ],
   "source": [
    "X_train.columns"
   ]
  },
  {
   "cell_type": "code",
   "execution_count": 11,
   "metadata": {},
   "outputs": [
    {
     "data": {
      "text/plain": [
       "Index(['mean radius', 'mean perimeter', 'mean area', 'mean concavity',\n",
       "       'mean concave points', 'area error', 'worst radius', 'worst perimeter',\n",
       "       'worst area', 'worst concave points'],\n",
       "      dtype='object')"
      ]
     },
     "execution_count": 11,
     "metadata": {},
     "output_type": "execute_result"
    }
   ],
   "source": [
    "# see the selected features.\n",
    "selected_features = X_train.columns[(selection.get_support())]\n",
    "selected_features"
   ]
  },
  {
   "cell_type": "code",
   "execution_count": 12,
   "metadata": {},
   "outputs": [
    {
     "data": {
      "text/plain": [
       "array([0.03699612, 0.01561296, 0.06016409, 0.0371452 , 0.0063401 ,\n",
       "       0.00965994, 0.0798662 , 0.08669071, 0.00474992, 0.00417092,\n",
       "       0.02407355, 0.00548033, 0.01254423, 0.03880038, 0.00379521,\n",
       "       0.00435162, 0.00452503, 0.00556905, 0.00610635, 0.00528878,\n",
       "       0.09556258, 0.01859305, 0.17205401, 0.05065305, 0.00943096,\n",
       "       0.01565491, 0.02443166, 0.14202709, 0.00964898, 0.01001304])"
      ]
     },
     "execution_count": 12,
     "metadata": {},
     "output_type": "execute_result"
    }
   ],
   "source": [
    "selection.estimator_.feature_importances_"
   ]
  },
  {
   "cell_type": "code",
   "execution_count": 13,
   "metadata": {},
   "outputs": [
    {
     "data": {
      "text/plain": [
       "0.03333333333333334"
      ]
     },
     "execution_count": 13,
     "metadata": {},
     "output_type": "execute_result"
    }
   ],
   "source": [
    "np.mean(selection.estimator_.feature_importances_)"
   ]
  },
  {
   "cell_type": "code",
   "execution_count": 14,
   "metadata": {},
   "outputs": [],
   "source": [
    "def run_randomForest(X_train, X_test, y_train, y_test):\n",
    "    clf = RandomForestClassifier(random_state=0, n_estimators=100, n_jobs=-1)\n",
    "    clf.fit(X_train, y_train)\n",
    "    y_pred = clf.predict(X_test)\n",
    "    print('Accuracy: ', accuracy_score(y_test, y_pred))"
   ]
  },
  {
   "cell_type": "code",
   "execution_count": 15,
   "metadata": {},
   "outputs": [],
   "source": [
    "X_train_transform = selection.transform(X_train)\n",
    "X_test_transform = selection.transform(X_test)"
   ]
  },
  {
   "cell_type": "code",
   "execution_count": 16,
   "metadata": {},
   "outputs": [
    {
     "name": "stdout",
     "output_type": "stream",
     "text": [
      "Accuracy:  0.9473684210526315\n",
      "Wall time: 382 ms\n"
     ]
    }
   ],
   "source": [
    "%time run_randomForest(X_train_transform,X_test_transform, y_train, y_test) # with selected Features"
   ]
  },
  {
   "cell_type": "markdown",
   "metadata": {},
   "source": [
    "### ___Recursive Feature Elimination___"
   ]
  },
  {
   "cell_type": "code",
   "execution_count": 17,
   "metadata": {},
   "outputs": [],
   "source": [
    "from sklearn.feature_selection import RFE"
   ]
  },
  {
   "cell_type": "code",
   "execution_count": 30,
   "metadata": {},
   "outputs": [
    {
     "data": {
      "text/plain": [
       "RFE(estimator=RandomForestClassifier(bootstrap=True, ccp_alpha=0.0,\n",
       "                                     class_weight=None, criterion='gini',\n",
       "                                     max_depth=None, max_features='auto',\n",
       "                                     max_leaf_nodes=None, max_samples=None,\n",
       "                                     min_impurity_decrease=0.0,\n",
       "                                     min_impurity_split=None,\n",
       "                                     min_samples_leaf=1, min_samples_split=2,\n",
       "                                     min_weight_fraction_leaf=0.0,\n",
       "                                     n_estimators=100, n_jobs=-1,\n",
       "                                     oob_score=False, random_state=0, verbose=0,\n",
       "                                     warm_start=False),\n",
       "    n_features_to_select=15, step=1, verbose=0)"
      ]
     },
     "execution_count": 30,
     "metadata": {},
     "output_type": "execute_result"
    }
   ],
   "source": [
    "selection = RFE(RandomForestClassifier(random_state=0, n_estimators=100, n_jobs=-1), n_features_to_select= 15)\n",
    "selection.fit(X_train, y_train)"
   ]
  },
  {
   "cell_type": "code",
   "execution_count": 31,
   "metadata": {},
   "outputs": [
    {
     "data": {
      "text/plain": [
       "array([ True,  True,  True,  True, False, False,  True,  True, False,\n",
       "       False, False, False, False,  True, False, False, False, False,\n",
       "       False, False,  True,  True,  True,  True,  True, False,  True,\n",
       "        True,  True, False])"
      ]
     },
     "execution_count": 31,
     "metadata": {},
     "output_type": "execute_result"
    }
   ],
   "source": [
    "selection.get_support()"
   ]
  },
  {
   "cell_type": "code",
   "execution_count": 32,
   "metadata": {},
   "outputs": [
    {
     "data": {
      "text/plain": [
       "array([0.03361926, 0.0216965 , 0.0614782 , 0.02625804, 0.07751976,\n",
       "       0.13635686, 0.04859556, 0.10333582, 0.02457575, 0.15148042,\n",
       "       0.13843996, 0.02001461, 0.02672587, 0.11050174, 0.01940163])"
      ]
     },
     "execution_count": 32,
     "metadata": {},
     "output_type": "execute_result"
    }
   ],
   "source": [
    "selection.estimator_.feature_importances_"
   ]
  },
  {
   "cell_type": "code",
   "execution_count": 33,
   "metadata": {},
   "outputs": [
    {
     "data": {
      "text/plain": [
       "Index(['mean radius', 'mean texture', 'mean perimeter', 'mean area',\n",
       "       'mean concavity', 'mean concave points', 'area error', 'worst radius',\n",
       "       'worst texture', 'worst perimeter', 'worst area', 'worst smoothness',\n",
       "       'worst concavity', 'worst concave points', 'worst symmetry'],\n",
       "      dtype='object')"
      ]
     },
     "execution_count": 33,
     "metadata": {},
     "output_type": "execute_result"
    }
   ],
   "source": [
    "# see the selected features.\n",
    "selected_features = X_train.columns[(selection.get_support())]\n",
    "selected_features"
   ]
  },
  {
   "cell_type": "code",
   "execution_count": 34,
   "metadata": {},
   "outputs": [],
   "source": [
    "X_train_transform = selection.transform(X_train)\n",
    "X_test_transform = selection.transform(X_test)"
   ]
  },
  {
   "cell_type": "code",
   "execution_count": 35,
   "metadata": {},
   "outputs": [
    {
     "name": "stdout",
     "output_type": "stream",
     "text": [
      "Accuracy:  0.9736842105263158\n",
      "Wall time: 369 ms\n"
     ]
    }
   ],
   "source": [
    "%time run_randomForest(X_train_transform,X_test_transform, y_train, y_test) # with selected Features"
   ]
  },
  {
   "cell_type": "markdown",
   "metadata": {},
   "source": [
    "### ___Recursive Feature Elimination with Gradient Boosted Trees___"
   ]
  },
  {
   "cell_type": "code",
   "execution_count": 23,
   "metadata": {},
   "outputs": [],
   "source": [
    "from sklearn.ensemble import GradientBoostingClassifier"
   ]
  },
  {
   "cell_type": "code",
   "execution_count": 24,
   "metadata": {},
   "outputs": [
    {
     "data": {
      "text/plain": [
       "RFE(estimator=GradientBoostingClassifier(ccp_alpha=0.0,\n",
       "                                         criterion='friedman_mse', init=None,\n",
       "                                         learning_rate=0.1, loss='deviance',\n",
       "                                         max_depth=3, max_features=None,\n",
       "                                         max_leaf_nodes=None,\n",
       "                                         min_impurity_decrease=0.0,\n",
       "                                         min_impurity_split=None,\n",
       "                                         min_samples_leaf=1,\n",
       "                                         min_samples_split=2,\n",
       "                                         min_weight_fraction_leaf=0.0,\n",
       "                                         n_estimators=100,\n",
       "                                         n_iter_no_change=None,\n",
       "                                         presort='deprecated', random_state=0,\n",
       "                                         subsample=1.0, tol=0.0001,\n",
       "                                         validation_fraction=0.1, verbose=0,\n",
       "                                         warm_start=False),\n",
       "    n_features_to_select=15, step=1, verbose=0)"
      ]
     },
     "execution_count": 24,
     "metadata": {},
     "output_type": "execute_result"
    }
   ],
   "source": [
    "selection = RFE(GradientBoostingClassifier(random_state=0, n_estimators=100), n_features_to_select= 15)\n",
    "selection.fit(X_train, y_train)"
   ]
  },
  {
   "cell_type": "code",
   "execution_count": 25,
   "metadata": {},
   "outputs": [
    {
     "data": {
      "text/plain": [
       "array([False,  True, False, False,  True, False, False,  True,  True,\n",
       "       False,  True, False,  True,  True, False, False,  True, False,\n",
       "       False, False,  True,  True,  True,  True, False,  True,  True,\n",
       "        True, False, False])"
      ]
     },
     "execution_count": 25,
     "metadata": {},
     "output_type": "execute_result"
    }
   ],
   "source": [
    "selection.get_support()"
   ]
  },
  {
   "cell_type": "code",
   "execution_count": 26,
   "metadata": {},
   "outputs": [
    {
     "data": {
      "text/plain": [
       "Index(['mean texture', 'mean smoothness', 'mean concave points',\n",
       "       'mean symmetry', 'radius error', 'perimeter error', 'area error',\n",
       "       'concavity error', 'worst radius', 'worst texture', 'worst perimeter',\n",
       "       'worst area', 'worst compactness', 'worst concavity',\n",
       "       'worst concave points'],\n",
       "      dtype='object')"
      ]
     },
     "execution_count": 26,
     "metadata": {},
     "output_type": "execute_result"
    }
   ],
   "source": [
    "# see the selected features.\n",
    "selected_features = X_train.columns[(selection.get_support())]\n",
    "selected_features"
   ]
  },
  {
   "cell_type": "code",
   "execution_count": 27,
   "metadata": {},
   "outputs": [],
   "source": [
    "X_train_transform = selection.transform(X_train)\n",
    "X_test_transform = selection.transform(X_test)"
   ]
  },
  {
   "cell_type": "code",
   "execution_count": 28,
   "metadata": {},
   "outputs": [
    {
     "name": "stdout",
     "output_type": "stream",
     "text": [
      "Accuracy:  0.9649122807017544\n",
      "Wall time: 409 ms\n"
     ]
    }
   ],
   "source": [
    "%time run_randomForest(X_train_transform,X_test_transform, y_train, y_test) # with selected Features"
   ]
  },
  {
   "cell_type": "markdown",
   "metadata": {},
   "source": [
    "### ___Selecting best K-number of features___"
   ]
  },
  {
   "cell_type": "code",
   "execution_count": 38,
   "metadata": {},
   "outputs": [
    {
     "name": "stdout",
     "output_type": "stream",
     "text": [
      "Selected No. of Features:  1\n",
      "Accuracy:  0.8771929824561403\n",
      "Selected No. of Features:  2\n",
      "Accuracy:  0.9035087719298246\n",
      "Selected No. of Features:  3\n",
      "Accuracy:  0.9649122807017544\n",
      "Selected No. of Features:  4\n",
      "Accuracy:  0.9736842105263158\n",
      "Selected No. of Features:  5\n",
      "Accuracy:  0.9649122807017544\n",
      "Selected No. of Features:  6\n",
      "Accuracy:  0.9912280701754386\n",
      "Selected No. of Features:  7\n",
      "Accuracy:  0.9736842105263158\n",
      "Selected No. of Features:  8\n",
      "Accuracy:  0.9649122807017544\n",
      "Selected No. of Features:  9\n",
      "Accuracy:  0.9736842105263158\n",
      "Selected No. of Features:  10\n",
      "Accuracy:  0.956140350877193\n",
      "Selected No. of Features:  11\n",
      "Accuracy:  0.956140350877193\n",
      "Selected No. of Features:  12\n",
      "Accuracy:  0.9736842105263158\n",
      "Selected No. of Features:  13\n",
      "Accuracy:  0.956140350877193\n",
      "Selected No. of Features:  14\n",
      "Accuracy:  0.956140350877193\n",
      "Selected No. of Features:  15\n",
      "Accuracy:  0.9649122807017544\n",
      "Selected No. of Features:  16\n",
      "Accuracy:  0.956140350877193\n",
      "Selected No. of Features:  17\n",
      "Accuracy:  0.9649122807017544\n",
      "Selected No. of Features:  18\n",
      "Accuracy:  0.9473684210526315\n",
      "Selected No. of Features:  19\n",
      "Accuracy:  0.9649122807017544\n",
      "Selected No. of Features:  20\n",
      "Accuracy:  0.9473684210526315\n",
      "Selected No. of Features:  21\n",
      "Accuracy:  0.9649122807017544\n",
      "Selected No. of Features:  22\n",
      "Accuracy:  0.9649122807017544\n",
      "Selected No. of Features:  23\n",
      "Accuracy:  0.9649122807017544\n",
      "Selected No. of Features:  24\n",
      "Accuracy:  0.9649122807017544\n",
      "Selected No. of Features:  25\n",
      "Accuracy:  0.9736842105263158\n",
      "Selected No. of Features:  26\n",
      "Accuracy:  0.9736842105263158\n",
      "Selected No. of Features:  27\n",
      "Accuracy:  0.9649122807017544\n",
      "Selected No. of Features:  28\n",
      "Accuracy:  0.9649122807017544\n",
      "Selected No. of Features:  29\n",
      "Accuracy:  0.9649122807017544\n",
      "Selected No. of Features:  30\n",
      "Accuracy:  0.9649122807017544\n"
     ]
    }
   ],
   "source": [
    "for i in range(1,len(X_train.columns)+1):\n",
    "    selection = RFE(GradientBoostingClassifier(random_state=0, n_estimators=100), n_features_to_select= i)\n",
    "    selection.fit(X_train, y_train)\n",
    "    selected_features = X_train.columns[(selection.get_support())]\n",
    "    X_train_transform = selection.transform(X_train)\n",
    "    X_test_transform = selection.transform(X_test)\n",
    "    print('Selected No. of Features: ',i)\n",
    "    run_randomForest(X_train_transform,X_test_transform, y_train, y_test)"
   ]
  },
  {
   "cell_type": "markdown",
   "metadata": {},
   "source": [
    "___select the K features with the best achieved accuracy.___"
   ]
  }
 ],
 "metadata": {
  "kernelspec": {
   "display_name": "Python 3",
   "language": "python",
   "name": "python3"
  },
  "language_info": {
   "codemirror_mode": {
    "name": "ipython",
    "version": 3
   },
   "file_extension": ".py",
   "mimetype": "text/x-python",
   "name": "python",
   "nbconvert_exporter": "python",
   "pygments_lexer": "ipython3",
   "version": "3.7.6"
  }
 },
 "nbformat": 4,
 "nbformat_minor": 4
}
